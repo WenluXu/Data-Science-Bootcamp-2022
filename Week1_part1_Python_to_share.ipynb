{
  "nbformat": 4,
  "nbformat_minor": 0,
  "metadata": {
    "colab": {
      "provenance": [],
      "include_colab_link": true
    },
    "kernelspec": {
      "name": "python3",
      "display_name": "Python 3"
    },
    "language_info": {
      "name": "python"
    }
  },
  "cells": [
    {
      "cell_type": "markdown",
      "metadata": {
        "id": "view-in-github",
        "colab_type": "text"
      },
      "source": [
        "<a href=\"https://colab.research.google.com/github/WenluXu/Data-Science-Bootcamp-2022/blob/main/Week1_part1_Python_to_share.ipynb\" target=\"_parent\"><img src=\"https://colab.research.google.com/assets/colab-badge.svg\" alt=\"Open In Colab\"/></a>"
      ]
    },
    {
      "cell_type": "markdown",
      "metadata": {
        "id": "7SjRpRssC2e-"
      },
      "source": [
        "# Introduction to Python"
      ]
    },
    {
      "cell_type": "code",
      "metadata": {
        "id": "B3-JWyWzCwrm"
      },
      "source": [
        "print('Hello, world!')"
      ],
      "execution_count": null,
      "outputs": []
    },
    {
      "cell_type": "code",
      "source": [
        "print('Hello')\n",
        "print('\\n')\n",
        "print('World')"
      ],
      "metadata": {
        "id": "ai5OoTf8oGNV"
      },
      "execution_count": null,
      "outputs": []
    },
    {
      "cell_type": "markdown",
      "source": [
        "## Why its is so popular"
      ],
      "metadata": {
        "id": "fzKDRqtQrukJ"
      }
    },
    {
      "cell_type": "markdown",
      "source": [
        "## The ease of using python and clean good look comes at a cost - RUNTIME...!!!\n",
        "\n",
        "Compare with a Cpp code"
      ],
      "metadata": {
        "id": "J5YvkNLewAE8"
      }
    },
    {
      "cell_type": "code",
      "source": [
        "#include <iostream.h>\n",
        "#include <stdio.h>\n",
        "#using namespace std;\n",
        "\n",
        "# for(int i=0; i<3; i++){\n",
        "#     cout<<'Hello world'<<'\\n'<<endl;\n",
        "# }"
      ],
      "metadata": {
        "id": "cjWQCcPEviFL"
      },
      "execution_count": null,
      "outputs": []
    },
    {
      "cell_type": "code",
      "source": [
        "for i in range(3):\n",
        "  print('Hello World')"
      ],
      "metadata": {
        "id": "gsjNvt4Uw7pJ"
      },
      "execution_count": null,
      "outputs": []
    },
    {
      "cell_type": "code",
      "source": [
        "## This is a code to print Hello World 3 times and calculate the time taken to run it\n",
        "\n",
        "import time\n",
        "start_time = time.time()\n",
        "\n",
        "for i in range(3):\n",
        "  print('Hello World')\n",
        "\n",
        "end_time = time.time()\n",
        "\n",
        "time_diff = (end_time - start_time)\n",
        "execution_time = time_diff * 10**6\n",
        "\n",
        "print(execution_time)"
      ],
      "metadata": {
        "id": "rcxgxW-Wv_HT"
      },
      "execution_count": null,
      "outputs": []
    },
    {
      "cell_type": "markdown",
      "metadata": {
        "id": "TI2v4cRlDXaK"
      },
      "source": [
        "## Just for fun!\n",
        "\n",
        "Did you know that entering `import this` prints the 'Zen of Python'?\n",
        "\n",
        "The Zen of Python is a collection of 19 \"guiding principles\" for writing computer programs that influence the design of the Python programming language.\n",
        "\n",
        "It is always good to follow the zen even when you have an opportunity to show off your Python skills! :)"
      ]
    },
    {
      "cell_type": "code",
      "metadata": {
        "id": "wx9lQCM0DfmX"
      },
      "source": [
        "import this"
      ],
      "execution_count": null,
      "outputs": []
    },
    {
      "cell_type": "markdown",
      "metadata": {
        "id": "ZPcJ_rESHwum"
      },
      "source": [
        "## The `help()` function\n",
        "\n",
        "The `help()` function in python is used to display the documentation of modules, functions, classes, etc.\n"
      ]
    },
    {
      "cell_type": "code",
      "source": [
        "a = 10\n",
        "print('a')"
      ],
      "metadata": {
        "id": "-1Cdo5N7ziZS"
      },
      "execution_count": null,
      "outputs": []
    },
    {
      "cell_type": "code",
      "metadata": {
        "id": "44SQH6V9DgVV"
      },
      "source": [
        "# help([object])\n",
        "\n",
        "help(print)"
      ],
      "execution_count": null,
      "outputs": []
    },
    {
      "cell_type": "markdown",
      "metadata": {
        "id": "AypvTz1OJgEv"
      },
      "source": [
        "**NOTE:** If the `help()` function is passed without an argument,then the interactive help utility starts up on the console."
      ]
    },
    {
      "cell_type": "markdown",
      "metadata": {
        "id": "U2Gx61gZJ5oj"
      },
      "source": [
        "## Accessing the Attributes (Methods) of any object or a library\n",
        "\n",
        "In order to understand the pre-loaded attributes of an object, we use the `dir()` function."
      ]
    },
    {
      "cell_type": "code",
      "metadata": {
        "id": "HVLY2TTyJuYy"
      },
      "source": [
        "# import <library name>\n",
        "# dir(<library name>)\n",
        "\n",
        "import math\n",
        "dir(math)"
      ],
      "execution_count": null,
      "outputs": []
    },
    {
      "cell_type": "code",
      "source": [
        "import math\n",
        "\n",
        "help(math.pow)"
      ],
      "metadata": {
        "id": "J2sK4zCkljLP"
      },
      "execution_count": null,
      "outputs": []
    },
    {
      "cell_type": "code",
      "source": [
        "a = 3*3\n",
        "b = 3**3\n",
        "\n",
        "print(a)\n",
        "print(b)"
      ],
      "metadata": {
        "id": "CBdnlGS10PbA"
      },
      "execution_count": null,
      "outputs": []
    },
    {
      "cell_type": "code",
      "source": [
        "a = math.pow(2,3)\n",
        "print(a)"
      ],
      "metadata": {
        "id": "0wa-nQ20nOTG"
      },
      "execution_count": null,
      "outputs": []
    },
    {
      "cell_type": "markdown",
      "metadata": {
        "id": "RKJPIBVeQ-Rr"
      },
      "source": [
        "## Data types in Python\n",
        "\n",
        "Python has the a bunch of built-in data types by default:\n",
        "\n",
        "Text: `str`\n",
        "\n",
        "Numeric: `int`, `float`, `complex`\n",
        "\n",
        "Sequence: `list`, `tuple`, `range`\n",
        "\n",
        "Mapping: `dict`\n",
        "\n",
        "Set: `set`\n",
        "\n",
        "Boolean: `bool`\n",
        "\n",
        "Binary: `bytes`, `bytearray`, `memoryview`"
      ]
    },
    {
      "cell_type": "code",
      "source": [
        "# type(variable) prints the data type of the variable. In this case, list\n",
        "a = 5\n",
        "\n",
        "print(type(a))\n",
        "\n",
        "b = 10.05\n",
        "print(type(b))"
      ],
      "metadata": {
        "id": "5auG2KGqBOon"
      },
      "execution_count": null,
      "outputs": []
    },
    {
      "cell_type": "code",
      "metadata": {
        "id": "jWGwNMZ3SfpC"
      },
      "source": [
        "# type(variable) prints the data type of the variable. In this case, string\n",
        "name3 = \"Vijay\"\n",
        "\n",
        "print(name3)\n",
        "print(type(name3))"
      ],
      "execution_count": null,
      "outputs": []
    },
    {
      "cell_type": "markdown",
      "metadata": {
        "id": "c9H2KIZrTP8x"
      },
      "source": [
        "**NOTE:** The initialization of data-type to a particular variable happens automaticaly when we assign a value to a variable."
      ]
    },
    {
      "cell_type": "code",
      "metadata": {
        "id": "li1jP3axTX-l"
      },
      "source": [
        "# class float\n",
        "\n",
        "decimal = 0.690000\n",
        "print(decimal)\n",
        "\n",
        "print(type(decimal))"
      ],
      "execution_count": null,
      "outputs": []
    },
    {
      "cell_type": "code",
      "metadata": {
        "id": "IUflSg0FTjcG"
      },
      "source": [
        "# list\n",
        "\n",
        "# list_names = ['vijay', 'neel', 'akshit',1, 1.5]\n",
        "\n",
        "groceries = ['apples', 20, 'cake mix', 'kitchen roll',1,2,3,4,5,6]\n",
        "\n",
        "print(groceries)\n",
        "print(type(groceries))"
      ],
      "execution_count": null,
      "outputs": []
    },
    {
      "cell_type": "code",
      "source": [
        "print(groceries)"
      ],
      "metadata": {
        "id": "enO7eOX936RV"
      },
      "execution_count": null,
      "outputs": []
    },
    {
      "cell_type": "code",
      "source": [
        "groceries.append(\"paper towel\")\n",
        "print(groceries)"
      ],
      "metadata": {
        "id": "VHuBu0XX2uM-"
      },
      "execution_count": null,
      "outputs": []
    },
    {
      "cell_type": "code",
      "source": [
        "groceries.remove('kitchen roll')\n",
        "groceries"
      ],
      "metadata": {
        "id": "4kOoH1cg297J"
      },
      "execution_count": null,
      "outputs": []
    },
    {
      "cell_type": "code",
      "source": [
        "x = ('Apple', 'Tim', 'iPhone')\n",
        "print(type(x))"
      ],
      "metadata": {
        "id": "G_WLNzwHI1iM"
      },
      "execution_count": null,
      "outputs": []
    },
    {
      "cell_type": "code",
      "metadata": {
        "id": "ZqWeUPXVT2J4"
      },
      "source": [
        "# class list, but tuples\n",
        "\n",
        "a = [(1, 2), (3, 4, 5), (6, 7)]\n",
        "print(type(a))"
      ],
      "execution_count": null,
      "outputs": []
    },
    {
      "cell_type": "markdown",
      "source": [
        "### Difference between a list and tuple\n",
        "\n",
        "The main difference is that list are immutable and tuples are not\n",
        "\n",
        "for e.g.\n"
      ],
      "metadata": {
        "id": "ezmfkQRXJayr"
      }
    },
    {
      "cell_type": "code",
      "source": [
        "#list\n",
        "list1 = [1,2,3,4,5]\n",
        "\n",
        "print(list1[3])\n",
        "print()"
      ],
      "metadata": {
        "id": "Yq8GadxJJZpC"
      },
      "execution_count": null,
      "outputs": []
    },
    {
      "cell_type": "code",
      "metadata": {
        "id": "JqynSwC0ULb_"
      },
      "source": [
        "#tuple\n",
        "tuple1 = (1,2,3,4,5)\n",
        "\n",
        "print(tuple1[3])\n",
        "tuple1.append(20)"
      ],
      "execution_count": null,
      "outputs": []
    },
    {
      "cell_type": "code",
      "source": [],
      "metadata": {
        "id": "LH1t_oJZ4wUr"
      },
      "execution_count": null,
      "outputs": []
    },
    {
      "cell_type": "code",
      "metadata": {
        "id": "tzzxfQLIUTc5"
      },
      "source": [
        "# class dictionary\n",
        "\n",
        "hpc = {'Harry': '10', 'Ronald':'Weasley', 'Snape':8}\n",
        "\n",
        "print(hpc)\n",
        "print(type(hpc))"
      ],
      "execution_count": null,
      "outputs": []
    },
    {
      "cell_type": "code",
      "metadata": {
        "id": "lE-8ouBSUySo"
      },
      "source": [
        "# class boolean\n",
        "\n",
        "boolean = True\n",
        "print(type(boolean))\n",
        "\n",
        "print(bool(-2.3))"
      ],
      "execution_count": null,
      "outputs": []
    },
    {
      "cell_type": "code",
      "source": [
        "print(bool(0.1))"
      ],
      "metadata": {
        "id": "NWx4zGgeyInW"
      },
      "execution_count": null,
      "outputs": []
    },
    {
      "cell_type": "code",
      "metadata": {
        "id": "K6lHW02cVC6f"
      },
      "source": [
        "#None type\n",
        "z = None\n",
        "print(type(z))"
      ],
      "execution_count": null,
      "outputs": []
    },
    {
      "cell_type": "markdown",
      "metadata": {
        "id": "43k3bdBWVLdl"
      },
      "source": [
        "## Commonly used operators in Python"
      ]
    },
    {
      "cell_type": "code",
      "metadata": {
        "id": "hRgFK9ZzVFrp"
      },
      "source": [
        "a = 6.3\n",
        "b = 5.2\n",
        "\n",
        "print('Add: ', a+b)\n",
        "print('Subtract: ', a-b)\n",
        "print('Divide: ', a/b)\n",
        "print('Multiply: ', a*b)\n",
        "print('Floor Division: ', a//b)\n",
        "print('Mod: ', a%b)\n",
        "print('Power: ', a**b)"
      ],
      "execution_count": null,
      "outputs": []
    },
    {
      "cell_type": "markdown",
      "metadata": {
        "id": "epgvbOtWVuId"
      },
      "source": [
        "### A few tricks"
      ]
    },
    {
      "cell_type": "code",
      "metadata": {
        "id": "SyWaqfHhV6L5"
      },
      "source": [
        "a, *b = 34, 23, 10\n",
        "\n",
        "print(type(a))\n",
        "print(type(b))\n",
        "print(a)\n",
        "print(b)"
      ],
      "execution_count": null,
      "outputs": []
    },
    {
      "cell_type": "markdown",
      "metadata": {
        "id": "8ttnUtpLWg5W"
      },
      "source": [
        "## Type casting in Python\n",
        "\n",
        "Type Casting is the method to convert the variable data type into a certain data type in order for the operation required to be performed by users."
      ]
    },
    {
      "cell_type": "code",
      "metadata": {
        "id": "SzT49t-NWMuS"
      },
      "source": [
        "# switching from string to integer\n",
        "\n",
        "x = '10'\n",
        "print(type(x))\n",
        "\n",
        "print('String to Integer: ', int(x))\n",
        "\n",
        "x = int(x)\n",
        "print(type(x))"
      ],
      "execution_count": null,
      "outputs": []
    },
    {
      "cell_type": "code",
      "metadata": {
        "id": "bDZE0cGjW2RG"
      },
      "source": [
        "# switching from string to float\n",
        "\n",
        "print(float(x))\n",
        "x = float(x)\n",
        "print(type(x))"
      ],
      "execution_count": null,
      "outputs": []
    },
    {
      "cell_type": "code",
      "metadata": {
        "id": "ByWyHb2yXGGh"
      },
      "source": [
        "# switching from integer to string\n",
        "\n",
        "x = str(1) + '0'\n",
        "x = int(x)\n",
        "print(type(x))\n",
        "print(x)"
      ],
      "execution_count": null,
      "outputs": []
    },
    {
      "cell_type": "code",
      "metadata": {
        "id": "92FyE9vyXwgX"
      },
      "source": [
        "# switching from a tuple to list\n",
        "\n",
        "tuples = ((1, 2), (4, 'Ginny'), (7, 'Fred'))\n",
        "\n",
        "list_tup = list(tuples)\n",
        "\n",
        "print(list_tup)"
      ],
      "execution_count": null,
      "outputs": []
    },
    {
      "cell_type": "code",
      "metadata": {
        "id": "fI4hrIYfYLYK"
      },
      "source": [
        "# ascii value of alpha numeric characters\n",
        "\n",
        "print(chr(120))"
      ],
      "execution_count": null,
      "outputs": []
    },
    {
      "cell_type": "code",
      "metadata": {
        "id": "15IRjR0fYWuA"
      },
      "source": [
        "# string to ascii\n",
        "\n",
        "print(ord('x'))"
      ],
      "execution_count": null,
      "outputs": []
    },
    {
      "cell_type": "markdown",
      "metadata": {
        "id": "FOOWQ-hpYfDj"
      },
      "source": [
        "## Using in-built functions"
      ]
    },
    {
      "cell_type": "markdown",
      "metadata": {
        "id": "ptbOxtLzYkwt"
      },
      "source": [
        "### Using the `random` method\n",
        "\n",
        "This method is used to geenrate 'random' values or ranges depending on the requirement."
      ]
    },
    {
      "cell_type": "code",
      "metadata": {
        "id": "Q2-bbLCQYYmo"
      },
      "source": [
        "import random\n",
        "\n",
        "# adding the start and end paramaters\n",
        "\n",
        "print(random.randint(5, 10))"
      ],
      "execution_count": null,
      "outputs": []
    },
    {
      "cell_type": "markdown",
      "metadata": {
        "id": "dOhlnJ3cZOG_"
      },
      "source": [
        "### Using the `math` method\n",
        "\n",
        "You can use this method(/library) to make mathematical operations much easier."
      ]
    },
    {
      "cell_type": "code",
      "metadata": {
        "id": "OLn6RTezZAQo"
      },
      "source": [
        "import math\n",
        "\n",
        "print('inbuilt value of pi: ', math.pi)\n",
        "\n",
        "print('Square root of 2209: ', math.sqrt(2209))\n",
        "print('Ceiling Value: ', math.floor(3.1415))"
      ],
      "execution_count": null,
      "outputs": []
    },
    {
      "cell_type": "markdown",
      "metadata": {
        "id": "AEeN-tSCaPun"
      },
      "source": [
        "### Using the `datetime` method\n",
        "\n",
        "Yeah, nothing fancy about it. Just does what the name mentions."
      ]
    },
    {
      "cell_type": "code",
      "metadata": {
        "id": "17f721kKZp2s"
      },
      "source": [
        "import datetime\n",
        "\n",
        "date = datetime.datetime.now()\n",
        "\n",
        "print(date)\n",
        "print(type(date))"
      ],
      "execution_count": null,
      "outputs": []
    },
    {
      "cell_type": "markdown",
      "metadata": {
        "id": "Z-jk8S03aqlY"
      },
      "source": [
        "## Lists!"
      ]
    },
    {
      "cell_type": "markdown",
      "metadata": {
        "id": "UM8zUVyNboCx"
      },
      "source": [
        "### Accessing the values from a list\n",
        "\n",
        "**Fun fact:** Python does allow negative indexing!"
      ]
    },
    {
      "cell_type": "code",
      "metadata": {
        "id": "5gwYaHT0bZPC",
        "outputId": "cde5b106-b5ee-4e41-c777-3fd25e2a0533",
        "colab": {
          "base_uri": "https://localhost:8080/"
        }
      },
      "source": [
        "list_object = ['1', 81, '%', 'Fort Greene']\n",
        "\n",
        "list_object[3]"
      ],
      "execution_count": null,
      "outputs": [
        {
          "output_type": "execute_result",
          "data": {
            "text/plain": [
              "'Fort Greene'"
            ],
            "application/vnd.google.colaboratory.intrinsic+json": {
              "type": "string"
            }
          },
          "metadata": {},
          "execution_count": 1
        }
      ]
    },
    {
      "cell_type": "code",
      "metadata": {
        "id": "9ipofY0Fb0U1",
        "outputId": "6d431617-4d17-4623-e37f-9ab60c3a0822",
        "colab": {
          "base_uri": "https://localhost:8080/"
        }
      },
      "source": [
        "# executing all the values from the beginning to the end\n",
        "\n",
        "print(list_object[1:])"
      ],
      "execution_count": null,
      "outputs": [
        {
          "output_type": "stream",
          "name": "stdout",
          "text": [
            "[81, '%', 'Fort Greene']\n"
          ]
        }
      ]
    },
    {
      "cell_type": "code",
      "metadata": {
        "id": "Rpr8D7wSg_HV",
        "outputId": "66a03a18-40b5-40d7-be4f-57244b15c586",
        "colab": {
          "base_uri": "https://localhost:8080/"
        }
      },
      "source": [
        "print(list_object[:3])"
      ],
      "execution_count": null,
      "outputs": [
        {
          "output_type": "stream",
          "name": "stdout",
          "text": [
            "['1', 81, '%']\n"
          ]
        }
      ]
    },
    {
      "cell_type": "code",
      "metadata": {
        "id": "xKJh-xDab_Bc",
        "outputId": "a18d1c00-d9a6-46b5-ac21-dee58468a7dd",
        "colab": {
          "base_uri": "https://localhost:8080/"
        }
      },
      "source": [
        "# let's say that we want we to skip a few values in between\n",
        "\n",
        "print(list_object[0:7687:2])"
      ],
      "execution_count": null,
      "outputs": [
        {
          "output_type": "stream",
          "name": "stdout",
          "text": [
            "['1', '%']\n"
          ]
        }
      ]
    },
    {
      "cell_type": "code",
      "metadata": {
        "id": "vZrPD263cJ5r",
        "outputId": "04491ca2-009e-400a-b63e-e42a8ab80647",
        "colab": {
          "base_uri": "https://localhost:8080/"
        }
      },
      "source": [
        "# negative ranges\n",
        "\n",
        "print(list_object[-4:])"
      ],
      "execution_count": null,
      "outputs": [
        {
          "output_type": "stream",
          "name": "stdout",
          "text": [
            "['1', 81, '%', 'Fort Greene']\n"
          ]
        }
      ]
    },
    {
      "cell_type": "markdown",
      "metadata": {
        "id": "L0V-j6SucW38"
      },
      "source": [
        "### Modifying lists"
      ]
    },
    {
      "cell_type": "code",
      "metadata": {
        "id": "vkWrEGdhcOaY",
        "outputId": "d0043042-683f-4465-f727-8cb094d7b2a6",
        "colab": {
          "base_uri": "https://localhost:8080/"
        }
      },
      "source": [
        "# make changes in the list\n",
        "\n",
        "list_object.extend([0,1.2])\n",
        "print(list_object)\n",
        "\n",
        "\n",
        "# make range of values changes\n",
        "\n",
        "subset_items = [1,52,798,8]\n",
        "list_object[0:4] = subset_items\n",
        "print(list_object)"
      ],
      "execution_count": null,
      "outputs": [
        {
          "output_type": "stream",
          "name": "stdout",
          "text": [
            "['1', 81, '%', 'Fort Greene', 0, 1.2]\n",
            "[1, 52, 798, 8, 0, 1.2]\n"
          ]
        }
      ]
    },
    {
      "cell_type": "code",
      "metadata": {
        "id": "gVXZXxmRc_h5",
        "outputId": "a0ce9bed-5834-40be-b49c-ce3b995131f8",
        "colab": {
          "base_uri": "https://localhost:8080/"
        }
      },
      "source": [
        "# skipping changes\n",
        "\n",
        "subset = ['2','45555','12']\n",
        "list_object[0:5:2] = subset\n",
        "print(list_object)"
      ],
      "execution_count": null,
      "outputs": [
        {
          "output_type": "stream",
          "name": "stdout",
          "text": [
            "['2', 52, '45555', 8, '12', 1.2]\n"
          ]
        }
      ]
    },
    {
      "cell_type": "code",
      "metadata": {
        "id": "sV2V_Y_qdD9I",
        "outputId": "00674c0b-a47d-4ace-a8c1-e77f75425ab6",
        "colab": {
          "base_uri": "https://localhost:8080/"
        }
      },
      "source": [
        "# delete an element\n",
        "\n",
        "list_object = [1, 2, 12, 6, 112, 3, 4, 5, 7]\n",
        "\n",
        "print(list_object)\n",
        "list_object.pop()\n",
        "print(list_object)\n",
        "# 0 1 2\n",
        "list_object.pop(2)\n",
        "print(list_object)"
      ],
      "execution_count": null,
      "outputs": [
        {
          "output_type": "stream",
          "name": "stdout",
          "text": [
            "[1, 2, 12, 6, 112, 3, 4, 5, 7]\n",
            "[1, 2, 12, 6, 112, 3, 4, 5]\n",
            "[1, 2, 6, 112, 3, 4, 5]\n"
          ]
        }
      ]
    },
    {
      "cell_type": "markdown",
      "metadata": {
        "id": "mEAUkcSHdd0b"
      },
      "source": [
        "What do we do if there is an error while removing a value from the list and the list is empty?"
      ]
    },
    {
      "cell_type": "code",
      "metadata": {
        "id": "0RVeKOizdQqL",
        "outputId": "6eefd87b-66e7-4422-a152-d1c7a924fa8b",
        "colab": {
          "base_uri": "https://localhost:8080/"
        }
      },
      "source": [
        "# we use the try except functionality\n",
        "\n",
        "try:\n",
        "  list_object.remove(10)\n",
        "\n",
        "except:\n",
        "  print('Element not in the list')"
      ],
      "execution_count": null,
      "outputs": [
        {
          "output_type": "stream",
          "name": "stdout",
          "text": [
            "Element not in the list\n"
          ]
        }
      ]
    },
    {
      "cell_type": "markdown",
      "metadata": {
        "id": "BC8M5ZqudzqK"
      },
      "source": [
        "## The `for` loop"
      ]
    },
    {
      "cell_type": "code",
      "metadata": {
        "id": "eVnWXhDfdq7V"
      },
      "source": [
        "for i in range(0,5):\n",
        "  print(i, end=' ')"
      ],
      "execution_count": null,
      "outputs": []
    },
    {
      "cell_type": "code",
      "metadata": {
        "id": "BDA6B-C9fNI7"
      },
      "source": [
        "print('Adding the step parameter ')\n",
        "\n",
        "for i in range(10,3,-2):\n",
        "  print(i, end=' ')"
      ],
      "execution_count": null,
      "outputs": []
    },
    {
      "cell_type": "code",
      "metadata": {
        "id": "-HopnRQRfSq8"
      },
      "source": [
        "print('Printing the values in the format of a list ')\n",
        "\n",
        "a = [1,2,3,4,5]\n",
        "for i in a:\n",
        "  print(i)"
      ],
      "execution_count": null,
      "outputs": []
    },
    {
      "cell_type": "code",
      "metadata": {
        "id": "ZyhGZlSufaUZ"
      },
      "source": [
        "print('One-line for loop')\n",
        "\n",
        "sum_upto_10 = [i for i in range(11)]\n",
        "print(sum_upto_10)"
      ],
      "execution_count": null,
      "outputs": []
    },
    {
      "cell_type": "code",
      "metadata": {
        "id": "U8xDb2JEfhG_"
      },
      "source": [
        "print('One-linear nested for loop Matrix Multiplication')\n",
        "\n",
        "matrix_mul = [j*i for i in range(5) for j in range(5,10)]\n",
        "print('Matrix Looks like: ', matrix_mul)"
      ],
      "execution_count": null,
      "outputs": []
    },
    {
      "cell_type": "code",
      "metadata": {
        "id": "T3mYXwOpfuqX"
      },
      "source": [
        "a = ['Hello', 'world', '!']\n",
        "\n",
        "# iterable method 1\n",
        "print('Iterable Method 1: ')\n",
        "for i in range(len(a)):\n",
        "  print(i, a[i])\n",
        "\n",
        "# iterable method 2\n",
        "print('\\nIterable Method 2: ')\n",
        "for i in a:\n",
        "  print(i)\n",
        "\n",
        "# (iterable?) method 3\n",
        "print('\\nMethod 3: ')\n",
        "print(list(enumerate(a)))"
      ],
      "execution_count": null,
      "outputs": []
    },
    {
      "cell_type": "markdown",
      "metadata": {
        "id": "Ak9F4uRrg0n4"
      },
      "source": [
        "## Functions\n",
        "\n",
        "To define a function, use the `def` keyword followed by the name of the function with attributes."
      ]
    },
    {
      "cell_type": "code",
      "source": [
        "# mul function to do multiplication with 15\n",
        "#####################\n",
        "def mul(x):\n",
        "  result = x*15\n",
        "  return result\n",
        "\n",
        "######################\n",
        "\n",
        "a = 2\n",
        "output = mul(a)\n",
        "print(output)"
      ],
      "metadata": {
        "id": "te8I1Po75R4N"
      },
      "execution_count": null,
      "outputs": []
    },
    {
      "cell_type": "code",
      "metadata": {
        "id": "048vzN1Ggkbg"
      },
      "source": [
        "def fizzBuzz():\n",
        "\n",
        "  '''\n",
        "  Given a range print Fizz if divisible by 3, Buzz if divisible by 5 else FizzBuzz if divisible by 3 and 5\n",
        "  '''\n",
        "\n",
        "  n = int(input('Enter a number: '))\n",
        "  count = 1\n",
        "  while (count <= n):\n",
        "    string = ''\n",
        "    if (count %3 == 0):\n",
        "      string = 'Fizz'\n",
        "    if (count % 5 == 0):\n",
        "      string += 'Buzz'\n",
        "    print(count,string)\n",
        "    count +=1\n",
        "\n",
        "fizzBuzz()"
      ],
      "execution_count": null,
      "outputs": []
    },
    {
      "cell_type": "code",
      "source": [
        "string1 = \"Zoe\"\n",
        "\n",
        "string1 += \" adam\"\n",
        "\n",
        "print(string1)"
      ],
      "metadata": {
        "id": "kYsA0fhF76at"
      },
      "execution_count": null,
      "outputs": []
    },
    {
      "cell_type": "code",
      "source": [],
      "metadata": {
        "id": "a7jOVbeNy9Jj"
      },
      "execution_count": null,
      "outputs": []
    },
    {
      "cell_type": "markdown",
      "source": [
        "Thing which are not covered but I will suggest to go and have a look at it to have a better understanding and brings you to a point where you can get started with Data Science"
      ],
      "metadata": {
        "id": "By-EZSBry94b"
      }
    },
    {
      "cell_type": "markdown",
      "source": [
        "`lambda function`\n",
        "\n",
        "`for loops`\n",
        "\n",
        "`while loops`\n",
        "\n",
        "`list comprenhension`\n",
        "\n",
        "`Dictionaries`"
      ],
      "metadata": {
        "id": "DKwL0um4y97w"
      }
    },
    {
      "cell_type": "markdown",
      "source": [],
      "metadata": {
        "id": "N2LyJcKBy9_r"
      }
    }
  ]
}