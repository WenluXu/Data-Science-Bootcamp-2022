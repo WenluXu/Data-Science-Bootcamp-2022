{
  "nbformat": 4,
  "nbformat_minor": 0,
  "metadata": {
    "colab": {
      "provenance": [],
      "include_colab_link": true
    },
    "kernelspec": {
      "name": "python3",
      "display_name": "Python 3"
    },
    "language_info": {
      "name": "python"
    }
  },
  "cells": [
    {
      "cell_type": "markdown",
      "metadata": {
        "id": "view-in-github",
        "colab_type": "text"
      },
      "source": [
        "<a href=\"https://colab.research.google.com/github/WenluXu/Data-Science-Bootcamp-2022/blob/main/Week4_DataVisualization_%26_Cleaning.ipynb\" target=\"_parent\"><img src=\"https://colab.research.google.com/assets/colab-badge.svg\" alt=\"Open In Colab\"/></a>"
      ]
    },
    {
      "cell_type": "markdown",
      "source": [
        "### We start by importing the necessary libraries"
      ],
      "metadata": {
        "id": "ZU2Ezm49KEFw"
      }
    },
    {
      "cell_type": "code",
      "execution_count": null,
      "metadata": {
        "id": "7xCIQyoXEFrx"
      },
      "outputs": [],
      "source": [
        "import pandas as pd\n",
        "import numpy as np\n",
        "import seaborn as sns\n",
        "import matplotlib.pyplot as plt"
      ]
    },
    {
      "cell_type": "markdown",
      "source": [
        "### Load the Data"
      ],
      "metadata": {
        "id": "8-GtklzTKPau"
      }
    },
    {
      "cell_type": "code",
      "source": [
        "rentals = pd.read_csv(\"streeteasy.csv\")"
      ],
      "metadata": {
        "id": "A8xwEphbEV5N"
      },
      "execution_count": null,
      "outputs": []
    },
    {
      "cell_type": "markdown",
      "source": [
        "### View few of its entries"
      ],
      "metadata": {
        "id": "KgrTLfRBKTk3"
      }
    },
    {
      "cell_type": "code",
      "source": [
        "rentals.head()"
      ],
      "metadata": {
        "id": "2rSF0TEcEV78"
      },
      "execution_count": null,
      "outputs": []
    },
    {
      "cell_type": "markdown",
      "source": [
        "## **Univariate analysis**\n",
        "Univariate analysis focuses on a single variable at a time. Univariate data visualizations can help us answer questions like:\n",
        "\n",
        "* What is the typical price of a rental in New York City?\n",
        "* What proportion of NYC rentals have a gym?\n",
        "\n",
        "Depending on the type of variable (quantitative or categorical) we want to visualize, we need to use slightly different visualizations."
      ],
      "metadata": {
        "id": "yCv1v-hpJKx_"
      }
    },
    {
      "cell_type": "markdown",
      "source": [
        "## **Quantitative variables** -\n",
        "\n",
        "Box plots (or violin plots) and histograms are common choices for visually summarizing a quantitative variable. These plots are useful because they simultaneously communicate information about minimum and maximum values, central location, and spread. Histograms can additionally illuminate patterns that can impact an analysis (eg., skew or multimodality).\n",
        "\n",
        "For example, suppose we are interested in learning more about the price of apartments in NYC. A good starting place is to plot a box plot of the rent variable. We could plot a boxplot of rent as follows:"
      ],
      "metadata": {
        "id": "qdYlVJF3JcN-"
      }
    },
    {
      "cell_type": "code",
      "source": [
        "sns.boxplot(x='rent', data=rentals)\n",
        "plt.show()"
      ],
      "metadata": {
        "id": "wKrd7fcwEV_E"
      },
      "execution_count": null,
      "outputs": []
    },
    {
      "cell_type": "markdown",
      "source": [
        "Observation: We can see that most rental prices fall within a range of 2500 - 5000, however, there are many outliers, particularly on the high end. For more detail, we can also plot a histogram of the rent variable."
      ],
      "metadata": {
        "id": "MykxLmh4KfHj"
      }
    },
    {
      "cell_type": "code",
      "source": [
        "# Create a histogram of the rent variable\n",
        "sns.displot(rentals.rent, bins=10, kde=False)\n",
        "plt.show()"
      ],
      "metadata": {
        "id": "pZEEwuOkI2Rk"
      },
      "execution_count": null,
      "outputs": []
    },
    {
      "cell_type": "markdown",
      "source": [
        "The histogram highlights the long right-handed tail for rental prices. We can get a more detailed look at this distribution by increasing the number of bin"
      ],
      "metadata": {
        "id": "ArSqBNKBLILX"
      }
    },
    {
      "cell_type": "code",
      "source": [
        "# Create a histogram of the rent variable\n",
        "sns.displot(rentals.rent, bins=50, kde=False)\n",
        "plt.show()"
      ],
      "metadata": {
        "id": "nodAYHy1I2T5"
      },
      "execution_count": null,
      "outputs": []
    },
    {
      "cell_type": "markdown",
      "source": [
        "### **Categorical variables**\n",
        "\n",
        "For categorical variables, we can use a bar plot (instead of a histogram) to quickly visualize the frequency (or proportion) of values in each category. For example, suppose we want to know how many apartments are available in each borough. We can visually represent that information as follows:"
      ],
      "metadata": {
        "id": "w-xANmayNSVu"
      }
    },
    {
      "cell_type": "markdown",
      "source": [
        "### Bar Plot"
      ],
      "metadata": {
        "id": "I_nKI8uHN3C5"
      }
    },
    {
      "cell_type": "code",
      "source": [
        "# Define the labels in pie chart\n",
        "borough_labels = [\"Manhattan\", \"Brooklyn\", \"Queens\"]\n",
        "\n",
        "# Generate pie chart of boroughs\n",
        "plt.pie(rentals.borough.value_counts(), labels = borough_labels)\n",
        "plt.show()# Create a barplot of the counts in the borough variable\n",
        "# The palette parameter will set the color scheme for the plot\n",
        "\n",
        "sns.countplot(x='borough', data=rentals, palette='winter')\n",
        "plt.show()"
      ],
      "metadata": {
        "id": "AjZE_Q0SI2Ww"
      },
      "execution_count": null,
      "outputs": []
    },
    {
      "cell_type": "markdown",
      "source": [
        "### OR use a Pie-Chart"
      ],
      "metadata": {
        "id": "wKC6U3ZSNyAP"
      }
    },
    {
      "cell_type": "code",
      "source": [
        "borough_labels = rentals.borough.unique()\n",
        "\n",
        "# Generate pie chart of boroughs\n",
        "plt.pie(rentals.borough.value_counts(), labels = borough_labels)\n",
        "plt.show()"
      ],
      "metadata": {
        "id": "PcRSXEPJI2xW"
      },
      "execution_count": null,
      "outputs": []
    },
    {
      "cell_type": "code",
      "source": [],
      "metadata": {
        "id": "_ySNfAhzNvbi"
      },
      "execution_count": null,
      "outputs": []
    },
    {
      "cell_type": "markdown",
      "source": [
        "## **Bivariate analysis**\n",
        "\n",
        "In many cases, a data analyst is interested in the relationship between two variables in a dataset. For example:\n",
        "\n",
        "* Do apartments in different boroughs tend to cost different amounts?\n",
        "* What is the relationship between the area of an apartment and how much it costs?\n",
        "\n",
        "Depending on the types of variables we are interested in, we need to rely on different kinds of visualizations and can have combination as follows-\n",
        "\n",
        "\n",
        "1.   2 Categorical Variables\n",
        "2.   2 Quantitative Variables\n",
        "3.   1 Quantitiative & 1 Categorical Variable\n",
        "\n"
      ],
      "metadata": {
        "id": "HGBmnqPHOo7l"
      }
    },
    {
      "cell_type": "code",
      "source": [
        "### For example we have rent as a quantitative values znd borough as categorical values\n",
        "\n",
        "sns.boxplot(x='borough', y='rent', data=rentals, palette='cool')\n",
        "plt.show()"
      ],
      "metadata": {
        "id": "6zAsWbJfNvd-"
      },
      "execution_count": null,
      "outputs": []
    },
    {
      "cell_type": "markdown",
      "source": [
        "This plot indicates that rental prices in Manhattan tend to be higher and have more variation than rental prices in other boroughs. We could also investigate the same question in more detail by looking at overlapping histograms of rental prices by borough:"
      ],
      "metadata": {
        "id": "8UV9VR6FVfRy"
      }
    },
    {
      "cell_type": "code",
      "source": [
        "plt.hist(rentals.rent[rentals.borough=='Manhattan'], label='Manhattan', density=True, alpha=.5)\n",
        "plt.hist(rentals.rent[rentals.borough=='Queens'], label='Queens', density=True, alpha=.5)\n",
        "plt.hist(rentals.rent[rentals.borough=='Brooklyn'], label='Brooklyn', density=True, alpha=.5)\n",
        "plt.legend()\n",
        "plt.show()"
      ],
      "metadata": {
        "id": "B8fY5XvbNvgV"
      },
      "execution_count": null,
      "outputs": []
    },
    {
      "cell_type": "markdown",
      "source": [
        "### **Two quantitative variables**\n",
        "\n",
        "A scatter plot is a great option for investigating the relationship between two quantitative variables. For example, if we want to explore the relationship between rent and size_sqft, we could create a scatter plot of these two variables:"
      ],
      "metadata": {
        "id": "m5HslUpZVepR"
      }
    },
    {
      "cell_type": "code",
      "source": [
        "# Create a scatterplot of the size_sqft variable relative to rent\n",
        "sns.scatterplot(rentals.size_sqft, rentals.rent)\n",
        "plt.show()"
      ],
      "metadata": {
        "id": "aABC4DIwNvi8"
      },
      "execution_count": null,
      "outputs": []
    },
    {
      "cell_type": "markdown",
      "source": [
        "The plot indicates that there is a strong positive linear relationship between the cost to rent a property and its square footage. Larger properties tend to cost more money.\n",
        "\n"
      ],
      "metadata": {
        "id": "CcOGWZgLXzpD"
      }
    },
    {
      "cell_type": "markdown",
      "source": [
        "### **Two categorical variables**\n",
        "\n",
        "Side by side (or stacked) bar plots are useful for visualizing the relationship between two categorical variables. For example, suppose we want to know whether rentals that have an elevator are more likely to have a gym. We could plot a side by side bar plot as follows:"
      ],
      "metadata": {
        "id": "0aiKhmyFX2vv"
      }
    },
    {
      "cell_type": "code",
      "source": [
        "sns.countplot(x='has_elevator', hue='has_gym', data=rentals)\n",
        "plt.show()"
      ],
      "metadata": {
        "id": "jldM1eQkV8mb"
      },
      "execution_count": null,
      "outputs": []
    },
    {
      "cell_type": "markdown",
      "source": [
        "This plot tells us that buildings with elevators are approximately equally likely to have a gym or not have a gym; meanwhile, apartments without elevators are very unlikely to have a gym."
      ],
      "metadata": {
        "id": "Ru9X2fW9YLc9"
      }
    },
    {
      "cell_type": "markdown",
      "source": [
        "### **Multivariate analysis**\n",
        "\n",
        "Sometimes, a data analyst is interested in simultaneously exploring the relationship between three or more variables in a single visualization. Many of the visualization methods presented up to this point can include additional variables by using visual cues such as colors, shapes, and patterns. For example, we can investigate the relationship between rental price, square footage, and borough by using color to introduce our third variable:"
      ],
      "metadata": {
        "id": "oSS9vZHkYQjN"
      }
    },
    {
      "cell_type": "code",
      "source": [
        "sns.scatterplot(rentals.size_sqft, rentals.rent, hue = rentals.borough, palette='bright')\n",
        "plt.show()"
      ],
      "metadata": {
        "id": "oBhIUNFGYQzm"
      },
      "execution_count": null,
      "outputs": []
    },
    {
      "cell_type": "markdown",
      "source": [
        "This plot shows many things at once: the positive linear relationship between price and area, the fact that Manhattan apartments tend to be larger than the other boroughs (because there are more blue points on the right-hand side of the plot compared to the other colors), and that Manhattan apartments tend to cost more money (because the blue points are mostly on top of the green and orange points).\n",
        "\n",
        "Even though it’s possible to add even more information to this plot (for example, we could use triangles and squares to indicate whether or not an apartment has a gym), it’s not always a good idea to overload a single visualization."
      ],
      "metadata": {
        "id": "k1V2rXuQYRGJ"
      }
    },
    {
      "cell_type": "markdown",
      "source": [
        "### **Heat-Map Correlation for quantitative Values**"
      ],
      "metadata": {
        "id": "1oC8cDTOYRa3"
      }
    },
    {
      "cell_type": "code",
      "source": [
        "# Define the colormap which maps the data values to the color space defined with the diverging_palette method\n",
        "colors = sns.diverging_palette(150, 275, s=80, l=55, n=9, as_cmap=True)\n",
        "\n",
        "# Create heatmap using the .corr method on df, set colormap to cmap\n",
        "sns.heatmap(rentals.corr(), center=0, cmap=colors, robust=True)\n",
        "plt.show()"
      ],
      "metadata": {
        "id": "S3KQx-K5YRli"
      },
      "execution_count": null,
      "outputs": []
    },
    {
      "cell_type": "code",
      "source": [
        "plt.figure(figsize = (15,10))\n",
        "sns.heatmap(rentals.corr(), cmap=\"CMRmap\", annot=True)\n",
        "plt.show()"
      ],
      "metadata": {
        "id": "Dsd3jN-hanQC"
      },
      "execution_count": null,
      "outputs": []
    },
    {
      "cell_type": "markdown",
      "source": [
        "### Some more EDA Techniques"
      ],
      "metadata": {
        "id": "_Y3bVKDIi6Ni"
      }
    },
    {
      "cell_type": "code",
      "source": [
        "import pandas as pd\n",
        "import matplotlib.pyplot as plt\n",
        "train = pd.read_csv(\"house_dataset.csv\")\n",
        "\n",
        "train.head()"
      ],
      "metadata": {
        "id": "Go9CYIsGi6YE"
      },
      "execution_count": null,
      "outputs": []
    },
    {
      "cell_type": "code",
      "source": [
        "train.shape"
      ],
      "metadata": {
        "id": "0kFnTDXGsrP5"
      },
      "execution_count": null,
      "outputs": []
    },
    {
      "cell_type": "code",
      "source": [
        "train.info()"
      ],
      "metadata": {
        "id": "8uLbwCvJs2fa"
      },
      "execution_count": null,
      "outputs": []
    },
    {
      "cell_type": "markdown",
      "source": [
        "### Editing the Column names"
      ],
      "metadata": {
        "id": "6RBZv2P1i6iG"
      }
    },
    {
      "cell_type": "code",
      "source": [
        "train.rename(columns={\n",
        "    'Id': 'id',\n",
        "    'MSSubClass': 'mssubclass',\n",
        "}, inplace=True)\n"
      ],
      "metadata": {
        "id": "6T-TPQnEi6rE"
      },
      "execution_count": null,
      "outputs": []
    },
    {
      "cell_type": "code",
      "source": [
        "train.columns = [i.lower() for i in train.columns]\n",
        "\n",
        "train.head()"
      ],
      "metadata": {
        "id": "Si5HN535tWT3"
      },
      "execution_count": null,
      "outputs": []
    },
    {
      "cell_type": "markdown",
      "source": [
        "### Making a common function for all statistical values"
      ],
      "metadata": {
        "id": "z7LFB74ni60S"
      }
    },
    {
      "cell_type": "code",
      "source": [
        "def stat(df):\n",
        "\n",
        "    eda_df = {}\n",
        "    eda_df['null_sum'] = df.isnull().sum()\n",
        "    eda_df['null_pct'] = df.isnull().mean()\n",
        "    eda_df['dtypes'] = df.dtypes\n",
        "    eda_df['count'] = df.count()\n",
        "    eda_df['mean'] = df.mean()\n",
        "    eda_df['median'] = df.median()\n",
        "    eda_df['min'] = df.min()\n",
        "    eda_df['max'] = df.max()\n",
        "\n",
        "    return pd.DataFrame(eda_df)\n",
        "\n",
        "\n",
        "stat(train)\n"
      ],
      "metadata": {
        "id": "RUNzKLSGi6-P"
      },
      "execution_count": null,
      "outputs": []
    },
    {
      "cell_type": "markdown",
      "source": [
        "From the above dataframe, I can see that there are object and integer columns. I want to inspect what all my column types and evaluate if there are any implications for EDA:"
      ],
      "metadata": {
        "id": "Pm9w_ZdHuyCn"
      }
    },
    {
      "cell_type": "code",
      "source": [
        "train.dtypes.value_counts()"
      ],
      "metadata": {
        "id": "feqJrmTflVEO"
      },
      "execution_count": null,
      "outputs": []
    },
    {
      "cell_type": "markdown",
      "source": [
        "Its easy to handle numerical values/coulmns, however out dataset heavily consist of object datatype and we nned to carefully go through them and process them to a state where they can be passed through a model."
      ],
      "metadata": {
        "id": "ln6IEYEalVPE"
      }
    },
    {
      "cell_type": "markdown",
      "source": [
        "### We will look for all the columns with datatype as \"OBJECT\""
      ],
      "metadata": {
        "id": "j4Hx6e8YwEGG"
      }
    },
    {
      "cell_type": "code",
      "source": [
        "train.select_dtypes(include=['object']).columns\n"
      ],
      "metadata": {
        "id": "4zUq07HhwCMV"
      },
      "execution_count": null,
      "outputs": []
    },
    {
      "cell_type": "code",
      "source": [
        "train.select_dtypes(include=['object']).head()\n"
      ],
      "metadata": {
        "id": "qdYl7QWZwPgO"
      },
      "execution_count": null,
      "outputs": []
    },
    {
      "cell_type": "markdown",
      "source": [
        "### Exploring the Object Columns:\n",
        "\n",
        "By inspecting the data dictionary provided, I can see that many of these object columns, such as ‘central_air’ and ‘heating_qc’ are categorical or ordinal features that:\n",
        "\n",
        "1.   can be converted to numeric values through data cleaning, &\n",
        "2.   are intuitively related to the price of a house — a house with central air would logically have a higher sale price than one without, holding all else constant.\n"
      ],
      "metadata": {
        "id": "XCb-ETLuwakp"
      }
    },
    {
      "cell_type": "markdown",
      "source": [
        "### Relation between features and the Targert using correlation\n",
        "\n",
        "A key step in our EDA investment is to explore whether there is a relationship between our potential feature columns and our target, the home’s sale price.\n",
        "\n",
        "For example, using our numeric columns, we can calculate the correlations between potential features and our target, but correlations won’t be calculated for non-numeric columns. This will be addressed further below."
      ],
      "metadata": {
        "id": "p9ORcmvI0NpV"
      }
    },
    {
      "cell_type": "code",
      "source": [
        "import seaborn as sns\n",
        "correlations = train.corrwith(train['saleprice']).iloc[:-1].to_frame()\n",
        "correlations['abs'] = correlations[0].abs()\n",
        "sorted_correlations = correlations.sort_values('abs', ascending=False)[0]\n",
        "fig, ax = plt.subplots(figsize=(10,20))\n",
        "sns.heatmap(sorted_correlations.to_frame(), cmap='coolwarm', annot=True, vmin=-1, vmax=1, ax=ax);"
      ],
      "metadata": {
        "id": "RKBPQgcrwasb"
      },
      "execution_count": null,
      "outputs": []
    },
    {
      "cell_type": "markdown",
      "source": [
        "Unsurprisingly, features such as the overall quality of the home and the size of the living area have a strong relationship with the sale price.\n",
        "\n",
        "But what about our non-numeric columns? Ordinal and categorical variables such as ‘exterior condition’ and ‘central air’ intuitively would have a relationship to sale price. It is critical that we visualize this!"
      ],
      "metadata": {
        "id": "hB3Xfq_W0MfZ"
      }
    },
    {
      "cell_type": "code",
      "source": [
        "sns.boxplot(train['centralair'], train['saleprice']).set_title('Central Air vs. Sale Price');"
      ],
      "metadata": {
        "id": "3Czyc1TzNH8K"
      },
      "execution_count": null,
      "outputs": []
    },
    {
      "cell_type": "markdown",
      "source": [
        "Based on this visualization, we will need to convert these columns to represent numeric values when we clean our data before modeling.\n",
        "\n",
        "We can also use the box plots to look at features that have categorical values. For example, kitchen quality is ranked on a scale from poor to excellent and again we can visualize a relationship to price:"
      ],
      "metadata": {
        "id": "MWWHvPN3wazN"
      }
    },
    {
      "cell_type": "markdown",
      "source": [
        "### Kitchen Quality Vs the Price"
      ],
      "metadata": {
        "id": "SfWBOensO09Z"
      }
    },
    {
      "cell_type": "code",
      "source": [
        "sns.boxplot(train['kitchenqual'],\n",
        "            train['saleprice']).set_title('Kitchen Quality vs. Sale Price');"
      ],
      "metadata": {
        "id": "kuAnWw3xwa5K"
      },
      "execution_count": null,
      "outputs": []
    },
    {
      "cell_type": "markdown",
      "source": [
        "So we want to use the string columns, but how do we clean them?\n",
        "\n",
        "One option to clean our categorical data is to define a function and apply it to our data such as in the example below to convert the garage quality from its categorical labels to numeric.\n",
        "\n",
        "First, we want to identify the range of values that a certain feature may contain. Based on the values identified, we can create a function to overwrite each value with numerical values."
      ],
      "metadata": {
        "id": "5HYyIX2lwa_K"
      }
    },
    {
      "cell_type": "code",
      "source": [
        "## Lets check the Garage Quality column\n",
        "\n",
        "train['garagequal'].value_counts()"
      ],
      "metadata": {
        "id": "IpZ-R_ClwbEo"
      },
      "execution_count": null,
      "outputs": []
    },
    {
      "cell_type": "code",
      "source": [
        "### One way to do that\n",
        "\n",
        "def garage_qual_cleaner(cell):\n",
        "    if cell == 'Ex':\n",
        "        return 5\n",
        "    elif cell == 'Gd':\n",
        "        return 4\n",
        "    elif cell == 'TA':\n",
        "        return 3\n",
        "    elif cell == 'Fa':\n",
        "        return 2\n",
        "    elif cell == 'Po':\n",
        "        return 1\n",
        "    else:\n",
        "        return 0"
      ],
      "metadata": {
        "id": "T-PpaSEIwWAu"
      },
      "execution_count": null,
      "outputs": []
    },
    {
      "cell_type": "markdown",
      "source": [
        "### Alternatively we can use map a dictionary as follows:-"
      ],
      "metadata": {
        "id": "6mQiPC_YQXwm"
      }
    },
    {
      "cell_type": "code",
      "source": [
        "train['kitchenqual'].map({'Ex': 5, 'Gd': 4, 'TA': 3, 'Fa': 2, 'Po': 1})"
      ],
      "metadata": {
        "id": "cUNFf9u9QT8l"
      },
      "execution_count": null,
      "outputs": []
    },
    {
      "cell_type": "markdown",
      "source": [
        "This mapping works well when there is an increasing and ordered relationship between the pricing and the Garage Quality."
      ],
      "metadata": {
        "id": "kk1x4Oa7REBK"
      }
    },
    {
      "cell_type": "markdown",
      "source": [
        "### But what about variables without a clear, ordered relationship?\n",
        "\n",
        "For example, the ‘neighborhood’ column contains string values detailing what neighborhood the home is located in. Without knowing the intimate details of the Ames real estate market, it is difficult to assign numeric values to the variable. We can’t simply assign random numbers or number them alphabetically as python will read neighborhood B (if we assign it as ‘2’) as being more valuable than neighborhood A (if we assign it as ‘1’), but less than neighborhood C — but this may not be the actual case and doing so would skew our model! So what do we do?\n",
        "\n",
        "First, we want to visualize the relationship with our target"
      ],
      "metadata": {
        "id": "4tI6Y2FDRl70"
      }
    },
    {
      "cell_type": "code",
      "source": [
        "plt.figure(figsize=(35,10)) # adjust the fig size to see everything\n",
        "\n",
        "sns.boxplot(train['neighborhood'], train['saleprice']).set_title('Sale Price varies widely by Ames Neighborhood')"
      ],
      "metadata": {
        "id": "5DJIDIu-RmHb"
      },
      "execution_count": null,
      "outputs": []
    },
    {
      "cell_type": "markdown",
      "source": [
        "Some neighborhoods clearly have higher sale prices have than others — a relationship that we want to capture in our model.\n",
        "\n",
        "With this it is very difficult to manually rank the importance or the possible order of the neighboorhaad and replace them with numbers.\n",
        "\n",
        "To overcome this issue we use a technique called **One-Hot encoding**\n",
        "\n",
        "string variables that do not have take on ordinal values such as neighborhood can be converted to a numerical amount by dummifying. Pandas provides a method to get dummify the variables — for each value (in this case neighborhood) a new feature will be created and the row will have a value of 0 or 1 for that column — a 1 signifying that in the original string column, a row contained the value that is now in the column name."
      ],
      "metadata": {
        "id": "F0p2XD2BTOBQ"
      }
    },
    {
      "cell_type": "code",
      "source": [
        "pd.get_dummies(train, columns=['neighborhood'], drop_first= True)"
      ],
      "metadata": {
        "id": "4RWfBsb9RENM"
      },
      "execution_count": null,
      "outputs": []
    },
    {
      "cell_type": "code",
      "source": [
        "sns.lmplot(x='1stflrsf', y= 'saleprice', data=train, fit_reg=False)"
      ],
      "metadata": {
        "id": "D67a-ey2UU3L"
      },
      "execution_count": null,
      "outputs": []
    },
    {
      "cell_type": "code",
      "source": [
        "train.loc[train['1stflrsf'] > 3000]"
      ],
      "metadata": {
        "id": "Kv5uU6PaU1Wm"
      },
      "execution_count": null,
      "outputs": []
    },
    {
      "cell_type": "code",
      "source": [
        "outlier = train.loc[train['1stflrsf'] > 3000].index.values\n",
        "outlier = list(outlier)\n",
        "outlier"
      ],
      "metadata": {
        "id": "lt7uNLclWHm0"
      },
      "execution_count": null,
      "outputs": []
    },
    {
      "cell_type": "code",
      "source": [
        "for row in outlier:\n",
        "    train.drop(row, inplace=True)"
      ],
      "metadata": {
        "id": "NyXZkvGOWjcB"
      },
      "execution_count": null,
      "outputs": []
    },
    {
      "cell_type": "code",
      "source": [],
      "metadata": {
        "id": "gYwYDuptMbq8"
      },
      "execution_count": null,
      "outputs": []
    }
  ]
}