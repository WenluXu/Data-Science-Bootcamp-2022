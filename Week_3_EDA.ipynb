{
  "cells": [
    {
      "cell_type": "markdown",
      "metadata": {
        "id": "view-in-github",
        "colab_type": "text"
      },
      "source": [
        "<a href=\"https://colab.research.google.com/github/WenluXu/Data-Science-Bootcamp-2022/blob/main/Week_3_EDA.ipynb\" target=\"_parent\"><img src=\"https://colab.research.google.com/assets/colab-badge.svg\" alt=\"Open In Colab\"/></a>"
      ]
    },
    {
      "cell_type": "markdown",
      "source": [
        "### Exploratory Data Analysis: EDA refers to the critical process of performaing initial investigations on the data to discover patterns, detect anomalies, spot hypothesis and verify assumptions with statistical values.\n",
        "\n",
        "To fo so, we will use 2 datasets\n",
        "* 1. Flight_prediction.xlsx\n",
        "* 2. forest_fires_dataset.csv\n",
        "\n",
        "### To follow along download the datasets and upload in the colab session."
      ],
      "metadata": {
        "id": "L2LfOcTdMzvp"
      }
    },
    {
      "cell_type": "markdown",
      "metadata": {
        "id": "sDU5Xf5GMcn7"
      },
      "source": [
        "## Import the required Libraries"
      ]
    },
    {
      "cell_type": "code",
      "execution_count": null,
      "metadata": {
        "id": "qdrGj7ACMcn-"
      },
      "outputs": [],
      "source": [
        "import pandas as pd\n",
        "import numpy as np\n",
        "import matplotlib.pyplot as plt\n",
        "%matplotlib inline\n",
        "import seaborn as sns\n",
        "import warnings\n",
        "warnings.filterwarnings('ignore')"
      ]
    },
    {
      "cell_type": "markdown",
      "source": [
        "### Start with importing the data and displaying few entries of it."
      ],
      "metadata": {
        "id": "6YvWCtpJOxFi"
      }
    },
    {
      "cell_type": "code",
      "source": [
        "df = pd.read_excel(\"/content/Flight_prediction.xlsx\")\n",
        "df.head()"
      ],
      "metadata": {
        "id": "CXf8HL9JOl6O",
        "colab": {
          "base_uri": "https://localhost:8080/",
          "height": 250
        },
        "outputId": "eac02913-4a55-4908-9ccd-a6ed40084c73"
      },
      "execution_count": null,
      "outputs": [
        {
          "output_type": "execute_result",
          "data": {
            "text/plain": [
              "       Airline Date_of_Journey    Source Destination                  Route  \\\n",
              "0       IndiGo      24/03/2019  Banglore   New Delhi              BLR → DEL   \n",
              "1    Air India       1/05/2019   Kolkata    Banglore  CCU → IXR → BBI → BLR   \n",
              "2  Jet Airways       9/06/2019     Delhi      Cochin  DEL → LKO → BOM → COK   \n",
              "3       IndiGo      12/05/2019   Kolkata    Banglore        CCU → NAG → BLR   \n",
              "4       IndiGo      01/03/2019  Banglore   New Delhi        BLR → NAG → DEL   \n",
              "\n",
              "  Dep_Time  Arrival_Time Duration Total_Stops Additional_Info  Price  \n",
              "0    22:20  01:10 22 Mar   2h 50m    non-stop         No info   3897  \n",
              "1    05:50         13:15   7h 25m     2 stops         No info   7662  \n",
              "2    09:25  04:25 10 Jun      19h     2 stops         No info  13882  \n",
              "3    18:05         23:30   5h 25m      1 stop         No info   6218  \n",
              "4    16:50         21:35   4h 45m      1 stop         No info  13302  "
            ],
            "text/html": [
              "\n",
              "  <div id=\"df-7c7e8433-3248-4ae3-b3c6-28144f643cea\">\n",
              "    <div class=\"colab-df-container\">\n",
              "      <div>\n",
              "<style scoped>\n",
              "    .dataframe tbody tr th:only-of-type {\n",
              "        vertical-align: middle;\n",
              "    }\n",
              "\n",
              "    .dataframe tbody tr th {\n",
              "        vertical-align: top;\n",
              "    }\n",
              "\n",
              "    .dataframe thead th {\n",
              "        text-align: right;\n",
              "    }\n",
              "</style>\n",
              "<table border=\"1\" class=\"dataframe\">\n",
              "  <thead>\n",
              "    <tr style=\"text-align: right;\">\n",
              "      <th></th>\n",
              "      <th>Airline</th>\n",
              "      <th>Date_of_Journey</th>\n",
              "      <th>Source</th>\n",
              "      <th>Destination</th>\n",
              "      <th>Route</th>\n",
              "      <th>Dep_Time</th>\n",
              "      <th>Arrival_Time</th>\n",
              "      <th>Duration</th>\n",
              "      <th>Total_Stops</th>\n",
              "      <th>Additional_Info</th>\n",
              "      <th>Price</th>\n",
              "    </tr>\n",
              "  </thead>\n",
              "  <tbody>\n",
              "    <tr>\n",
              "      <th>0</th>\n",
              "      <td>IndiGo</td>\n",
              "      <td>24/03/2019</td>\n",
              "      <td>Banglore</td>\n",
              "      <td>New Delhi</td>\n",
              "      <td>BLR → DEL</td>\n",
              "      <td>22:20</td>\n",
              "      <td>01:10 22 Mar</td>\n",
              "      <td>2h 50m</td>\n",
              "      <td>non-stop</td>\n",
              "      <td>No info</td>\n",
              "      <td>3897</td>\n",
              "    </tr>\n",
              "    <tr>\n",
              "      <th>1</th>\n",
              "      <td>Air India</td>\n",
              "      <td>1/05/2019</td>\n",
              "      <td>Kolkata</td>\n",
              "      <td>Banglore</td>\n",
              "      <td>CCU → IXR → BBI → BLR</td>\n",
              "      <td>05:50</td>\n",
              "      <td>13:15</td>\n",
              "      <td>7h 25m</td>\n",
              "      <td>2 stops</td>\n",
              "      <td>No info</td>\n",
              "      <td>7662</td>\n",
              "    </tr>\n",
              "    <tr>\n",
              "      <th>2</th>\n",
              "      <td>Jet Airways</td>\n",
              "      <td>9/06/2019</td>\n",
              "      <td>Delhi</td>\n",
              "      <td>Cochin</td>\n",
              "      <td>DEL → LKO → BOM → COK</td>\n",
              "      <td>09:25</td>\n",
              "      <td>04:25 10 Jun</td>\n",
              "      <td>19h</td>\n",
              "      <td>2 stops</td>\n",
              "      <td>No info</td>\n",
              "      <td>13882</td>\n",
              "    </tr>\n",
              "    <tr>\n",
              "      <th>3</th>\n",
              "      <td>IndiGo</td>\n",
              "      <td>12/05/2019</td>\n",
              "      <td>Kolkata</td>\n",
              "      <td>Banglore</td>\n",
              "      <td>CCU → NAG → BLR</td>\n",
              "      <td>18:05</td>\n",
              "      <td>23:30</td>\n",
              "      <td>5h 25m</td>\n",
              "      <td>1 stop</td>\n",
              "      <td>No info</td>\n",
              "      <td>6218</td>\n",
              "    </tr>\n",
              "    <tr>\n",
              "      <th>4</th>\n",
              "      <td>IndiGo</td>\n",
              "      <td>01/03/2019</td>\n",
              "      <td>Banglore</td>\n",
              "      <td>New Delhi</td>\n",
              "      <td>BLR → NAG → DEL</td>\n",
              "      <td>16:50</td>\n",
              "      <td>21:35</td>\n",
              "      <td>4h 45m</td>\n",
              "      <td>1 stop</td>\n",
              "      <td>No info</td>\n",
              "      <td>13302</td>\n",
              "    </tr>\n",
              "  </tbody>\n",
              "</table>\n",
              "</div>\n",
              "      <button class=\"colab-df-convert\" onclick=\"convertToInteractive('df-7c7e8433-3248-4ae3-b3c6-28144f643cea')\"\n",
              "              title=\"Convert this dataframe to an interactive table.\"\n",
              "              style=\"display:none;\">\n",
              "        \n",
              "  <svg xmlns=\"http://www.w3.org/2000/svg\" height=\"24px\"viewBox=\"0 0 24 24\"\n",
              "       width=\"24px\">\n",
              "    <path d=\"M0 0h24v24H0V0z\" fill=\"none\"/>\n",
              "    <path d=\"M18.56 5.44l.94 2.06.94-2.06 2.06-.94-2.06-.94-.94-2.06-.94 2.06-2.06.94zm-11 1L8.5 8.5l.94-2.06 2.06-.94-2.06-.94L8.5 2.5l-.94 2.06-2.06.94zm10 10l.94 2.06.94-2.06 2.06-.94-2.06-.94-.94-2.06-.94 2.06-2.06.94z\"/><path d=\"M17.41 7.96l-1.37-1.37c-.4-.4-.92-.59-1.43-.59-.52 0-1.04.2-1.43.59L10.3 9.45l-7.72 7.72c-.78.78-.78 2.05 0 2.83L4 21.41c.39.39.9.59 1.41.59.51 0 1.02-.2 1.41-.59l7.78-7.78 2.81-2.81c.8-.78.8-2.07 0-2.86zM5.41 20L4 18.59l7.72-7.72 1.47 1.35L5.41 20z\"/>\n",
              "  </svg>\n",
              "      </button>\n",
              "      \n",
              "  <style>\n",
              "    .colab-df-container {\n",
              "      display:flex;\n",
              "      flex-wrap:wrap;\n",
              "      gap: 12px;\n",
              "    }\n",
              "\n",
              "    .colab-df-convert {\n",
              "      background-color: #E8F0FE;\n",
              "      border: none;\n",
              "      border-radius: 50%;\n",
              "      cursor: pointer;\n",
              "      display: none;\n",
              "      fill: #1967D2;\n",
              "      height: 32px;\n",
              "      padding: 0 0 0 0;\n",
              "      width: 32px;\n",
              "    }\n",
              "\n",
              "    .colab-df-convert:hover {\n",
              "      background-color: #E2EBFA;\n",
              "      box-shadow: 0px 1px 2px rgba(60, 64, 67, 0.3), 0px 1px 3px 1px rgba(60, 64, 67, 0.15);\n",
              "      fill: #174EA6;\n",
              "    }\n",
              "\n",
              "    [theme=dark] .colab-df-convert {\n",
              "      background-color: #3B4455;\n",
              "      fill: #D2E3FC;\n",
              "    }\n",
              "\n",
              "    [theme=dark] .colab-df-convert:hover {\n",
              "      background-color: #434B5C;\n",
              "      box-shadow: 0px 1px 3px 1px rgba(0, 0, 0, 0.15);\n",
              "      filter: drop-shadow(0px 1px 2px rgba(0, 0, 0, 0.3));\n",
              "      fill: #FFFFFF;\n",
              "    }\n",
              "  </style>\n",
              "\n",
              "      <script>\n",
              "        const buttonEl =\n",
              "          document.querySelector('#df-7c7e8433-3248-4ae3-b3c6-28144f643cea button.colab-df-convert');\n",
              "        buttonEl.style.display =\n",
              "          google.colab.kernel.accessAllowed ? 'block' : 'none';\n",
              "\n",
              "        async function convertToInteractive(key) {\n",
              "          const element = document.querySelector('#df-7c7e8433-3248-4ae3-b3c6-28144f643cea');\n",
              "          const dataTable =\n",
              "            await google.colab.kernel.invokeFunction('convertToInteractive',\n",
              "                                                     [key], {});\n",
              "          if (!dataTable) return;\n",
              "\n",
              "          const docLinkHtml = 'Like what you see? Visit the ' +\n",
              "            '<a target=\"_blank\" href=https://colab.research.google.com/notebooks/data_table.ipynb>data table notebook</a>'\n",
              "            + ' to learn more about interactive tables.';\n",
              "          element.innerHTML = '';\n",
              "          dataTable['output_type'] = 'display_data';\n",
              "          await google.colab.output.renderOutput(dataTable, element);\n",
              "          const docLink = document.createElement('div');\n",
              "          docLink.innerHTML = docLinkHtml;\n",
              "          element.appendChild(docLink);\n",
              "        }\n",
              "      </script>\n",
              "    </div>\n",
              "  </div>\n",
              "  "
            ]
          },
          "metadata": {},
          "execution_count": 2
        }
      ]
    },
    {
      "cell_type": "code",
      "execution_count": null,
      "metadata": {
        "id": "IH1qJw3CMcoA"
      },
      "outputs": [],
      "source": [
        "df.columns"
      ]
    },
    {
      "cell_type": "code",
      "source": [
        "len(df)"
      ],
      "metadata": {
        "id": "L48QTEIZPcDt"
      },
      "execution_count": null,
      "outputs": []
    },
    {
      "cell_type": "markdown",
      "metadata": {
        "id": "g4BasAZbMcoA"
      },
      "source": [
        "### Check Null Values"
      ]
    },
    {
      "cell_type": "code",
      "execution_count": null,
      "metadata": {
        "id": "vxR43sg2McoB"
      },
      "outputs": [],
      "source": [
        "df.isna().sum()"
      ]
    },
    {
      "cell_type": "markdown",
      "metadata": {
        "id": "BeNaT6B_McoB"
      },
      "source": [
        "### Check Information and Datatype of all columns"
      ]
    },
    {
      "cell_type": "code",
      "execution_count": null,
      "metadata": {
        "id": "aaBAIMo5McoB"
      },
      "outputs": [],
      "source": [
        "df.info()"
      ]
    },
    {
      "cell_type": "markdown",
      "metadata": {
        "id": "o57NkPizMcoC"
      },
      "source": [
        "###  Change the Datatype of column Total_Stops"
      ]
    },
    {
      "cell_type": "code",
      "execution_count": null,
      "metadata": {
        "id": "aOzCRQcMMcoC"
      },
      "outputs": [],
      "source": [
        "df.Total_Stops.unique()\n"
      ]
    },
    {
      "cell_type": "code",
      "execution_count": null,
      "metadata": {
        "id": "Gt41UdGEMcoD"
      },
      "outputs": [],
      "source": [
        "df['Total_Stops'] = df['Total_Stops'].str.replace('non-stop','0')\n",
        "df.Total_Stops.head()"
      ]
    },
    {
      "cell_type": "markdown",
      "source": [
        "### Cleaning all such entries for the Total_Stops column"
      ],
      "metadata": {
        "id": "m7OoJCEatfZw"
      }
    },
    {
      "cell_type": "code",
      "source": [
        "df['Total_Stops'] = df['Total_Stops'].str.replace('1 stop','1')\n",
        "df['Total_Stops'] = df['Total_Stops'].str.replace('2 stops','2')\n",
        "df['Total_Stops'] = df['Total_Stops'].str.replace('3 stops','3')\n",
        "df['Total_Stops'] = df['Total_Stops'].str.replace('4 stops','4')\n",
        "df['Total_Stops'] = df['Total_Stops'].astype(float)"
      ],
      "metadata": {
        "id": "JpZ7Pm-0P_2K"
      },
      "execution_count": null,
      "outputs": []
    },
    {
      "cell_type": "markdown",
      "source": [
        "### Removing the na with a median value"
      ],
      "metadata": {
        "id": "TcqXAmVvtrx-"
      }
    },
    {
      "cell_type": "code",
      "source": [
        "df['Total_Stops'] = df['Total_Stops'].fillna(df['Total_Stops'].median())\n",
        "df['Total_Stops'] = df['Total_Stops'].astype(int)\n",
        "df.Total_Stops.unique()"
      ],
      "metadata": {
        "id": "3VltWISAtdNZ"
      },
      "execution_count": null,
      "outputs": []
    },
    {
      "cell_type": "code",
      "execution_count": null,
      "metadata": {
        "id": "oT4-rYbTMcoD"
      },
      "outputs": [],
      "source": [
        "df.dtypes"
      ]
    },
    {
      "cell_type": "code",
      "source": [
        "df.Total_Stops.head()"
      ],
      "metadata": {
        "id": "pTmK8sjvt8yI"
      },
      "execution_count": null,
      "outputs": []
    },
    {
      "cell_type": "markdown",
      "source": [
        "### Handling some more columns from the Data"
      ],
      "metadata": {
        "id": "aWIjg6R_uNb_"
      }
    },
    {
      "cell_type": "code",
      "source": [
        "df.Date_of_Journey.head()"
      ],
      "metadata": {
        "id": "jwt5zHKxuUBb"
      },
      "execution_count": null,
      "outputs": []
    },
    {
      "cell_type": "markdown",
      "metadata": {
        "id": "dOIRlIiLMcoE"
      },
      "source": [
        "### Change the data of column Date_of_Journey to Datetime"
      ]
    },
    {
      "cell_type": "code",
      "execution_count": null,
      "metadata": {
        "id": "9UBiYw_2McoE"
      },
      "outputs": [],
      "source": [
        "df['Date_of_Journey'] = pd.to_datetime(df['Date_of_Journey']).dt.date\n",
        "\n",
        "df.info()"
      ]
    },
    {
      "cell_type": "code",
      "execution_count": null,
      "metadata": {
        "id": "uVZgwMsRMcoE"
      },
      "outputs": [],
      "source": [
        "df.Arrival_Time.unique()"
      ]
    },
    {
      "cell_type": "code",
      "source": [
        "df.Arrival_Time.head()"
      ],
      "metadata": {
        "id": "BIHLHS3svzTc"
      },
      "execution_count": null,
      "outputs": []
    },
    {
      "cell_type": "markdown",
      "metadata": {
        "id": "namlFnJ2McoE"
      },
      "source": [
        "### Split the data values and store"
      ]
    },
    {
      "cell_type": "code",
      "execution_count": null,
      "metadata": {
        "id": "FaqDDzKfMcoE"
      },
      "outputs": [],
      "source": [
        "df['Arrival_Time'] = [i.split(' ')[0] for i in df['Arrival_Time']]\n",
        "df.head()"
      ]
    },
    {
      "cell_type": "markdown",
      "metadata": {
        "id": "6fyieRYbMcoF"
      },
      "source": [
        "### Categorical Features"
      ]
    },
    {
      "cell_type": "code",
      "source": [
        "df.info()"
      ],
      "metadata": {
        "id": "B6fi4SSAwK_i"
      },
      "execution_count": null,
      "outputs": []
    },
    {
      "cell_type": "code",
      "execution_count": null,
      "metadata": {
        "id": "xknz91WoMcoF",
        "colab": {
          "base_uri": "https://localhost:8080/"
        },
        "outputId": "2d18ccd1-6abf-48c3-dee9-1e65044f0593"
      },
      "outputs": [
        {
          "output_type": "stream",
          "name": "stdout",
          "text": [
            "We have 1 Catergorical features: ['year']\n"
          ]
        }
      ],
      "source": [
        "cat_features = [i for i in df.columns if df[i].dtypes == 'O']\n",
        "\n",
        "print(\"We have {} Catergorical features: {}\".format(len(cat_features),cat_features))"
      ]
    },
    {
      "cell_type": "markdown",
      "source": [
        "### We will be using a bit of Matplotlib and SNS for plotting some statistical data.\n",
        "\n",
        "### 1. plt.subplot(rows, columns, position)\n",
        "### 2. sns.scatterplot(X_axis, Y_axis, DataSet)"
      ],
      "metadata": {
        "id": "I2NAsq3R1Tkd"
      }
    },
    {
      "cell_type": "code",
      "execution_count": null,
      "metadata": {
        "id": "TNdbpcKCMcoF",
        "outputId": "99a5dae7-5947-430c-f22f-6b6c8cfb46bb",
        "colab": {
          "base_uri": "https://localhost:8080/",
          "height": 235
        }
      },
      "outputs": [
        {
          "output_type": "error",
          "ename": "NameError",
          "evalue": "ignored",
          "traceback": [
            "\u001b[0;31m---------------------------------------------------------------------------\u001b[0m",
            "\u001b[0;31mNameError\u001b[0m                                 Traceback (most recent call last)",
            "\u001b[0;32m<ipython-input-1-60ad2050733c>\u001b[0m in \u001b[0;36m<module>\u001b[0;34m\u001b[0m\n\u001b[1;32m      1\u001b[0m \u001b[0mlst\u001b[0m \u001b[0;34m=\u001b[0m \u001b[0;34m[\u001b[0m\u001b[0;34m'Airline'\u001b[0m\u001b[0;34m,\u001b[0m\u001b[0;34m'Source'\u001b[0m\u001b[0;34m,\u001b[0m\u001b[0;34m'Destination'\u001b[0m\u001b[0;34m]\u001b[0m\u001b[0;34m\u001b[0m\u001b[0;34m\u001b[0m\u001b[0m\n\u001b[1;32m      2\u001b[0m \u001b[0;34m\u001b[0m\u001b[0m\n\u001b[0;32m----> 3\u001b[0;31m \u001b[0mfig\u001b[0m \u001b[0;34m=\u001b[0m \u001b[0mplt\u001b[0m\u001b[0;34m.\u001b[0m\u001b[0mfigure\u001b[0m\u001b[0;34m(\u001b[0m\u001b[0mfigsize\u001b[0m\u001b[0;34m=\u001b[0m\u001b[0;34m(\u001b[0m\u001b[0;36m15\u001b[0m\u001b[0;34m,\u001b[0m\u001b[0;36m10\u001b[0m\u001b[0;34m)\u001b[0m\u001b[0;34m)\u001b[0m\u001b[0;34m\u001b[0m\u001b[0;34m\u001b[0m\u001b[0m\n\u001b[0m\u001b[1;32m      4\u001b[0m \u001b[0;34m\u001b[0m\u001b[0m\n\u001b[1;32m      5\u001b[0m \u001b[0;32mfor\u001b[0m \u001b[0mi\u001b[0m \u001b[0;32min\u001b[0m \u001b[0mrange\u001b[0m\u001b[0;34m(\u001b[0m\u001b[0;36m0\u001b[0m\u001b[0;34m,\u001b[0m\u001b[0mlen\u001b[0m\u001b[0;34m(\u001b[0m\u001b[0mlst\u001b[0m\u001b[0;34m)\u001b[0m\u001b[0;34m)\u001b[0m\u001b[0;34m:\u001b[0m\u001b[0;34m\u001b[0m\u001b[0;34m\u001b[0m\u001b[0m\n",
            "\u001b[0;31mNameError\u001b[0m: name 'plt' is not defined"
          ]
        }
      ],
      "source": [
        "lst = ['Airline','Source','Destination']\n",
        "\n",
        "fig = plt.figure(figsize=(15,10))\n",
        "\n",
        "for i in range(0,len(lst)):\n",
        "    ax = plt.subplot(3,1,i+1)\n",
        "    sns.scatterplot(x='Price',y=lst[i],data=df)\n",
        "    plt.tight_layout()"
      ]
    },
    {
      "cell_type": "markdown",
      "metadata": {
        "id": "RneEqHe2McoF"
      },
      "source": [
        "**Observation**\n",
        "* Price is high on Destination Delhi and Source Banglore\n",
        "* Price also high for Jet Airways and Jet Airways Business Airline"
      ]
    },
    {
      "cell_type": "markdown",
      "source": [
        "### Counting different routes for all the travel entries"
      ],
      "metadata": {
        "id": "vVQi8j_GAxKW"
      }
    },
    {
      "cell_type": "code",
      "execution_count": null,
      "metadata": {
        "id": "urLju9XLMcoG"
      },
      "outputs": [],
      "source": [
        "df['Route'].value_counts()"
      ]
    },
    {
      "cell_type": "markdown",
      "metadata": {
        "id": "8TPN27jXMcoG"
      },
      "source": [
        "**Observation**\n",
        "* Total 2376 flights are Delhi to Cochin Route.\n",
        "* Total 1552 flights are Bengluru to Delhi Route.\n",
        "* Total 979 flights are Kolkata to Bengluru Route."
      ]
    },
    {
      "cell_type": "markdown",
      "source": [
        "### Plotting all the route with its stops along the way"
      ],
      "metadata": {
        "id": "ARuTdfPHB83Z"
      }
    },
    {
      "cell_type": "code",
      "execution_count": null,
      "metadata": {
        "id": "pO4WOSCIMcoG"
      },
      "outputs": [],
      "source": [
        "fig = plt.figure(figsize=(17,20))\n",
        "\n",
        "plt.title('Route vs Total_Stops',fontsize=30,y=1.)\n",
        "\n",
        "sns.scatterplot(y='Route',x='Total_Stops',data=df)\n",
        "\n",
        "plt.xlabel(\"Total_stops\",fontsize=20,weight=20)\n",
        "plt.ylabel(\"Route\",fontsize=20,weight=20)"
      ]
    },
    {
      "cell_type": "markdown",
      "metadata": {
        "id": "2P-TK7xPMcoG"
      },
      "source": [
        "**Observation**\n",
        "* Bengluru to Delhi,Mumbai to Hyderabad,Delhi to Kolkata and Kolkata to Bengluru has 0  Stops.\n",
        "* Bengluru to Kolkata to Bhubaneswar to Hydrabad to Vijayawada to Delhi has 4 Stops.\n",
        "* Most of the Flights have either 1 or 2 stops/halts before reaching the destination"
      ]
    },
    {
      "cell_type": "markdown",
      "source": [
        "### Plotting all the routs and the Flights that passes through it."
      ],
      "metadata": {
        "id": "ueVTmXMVCIuO"
      }
    },
    {
      "cell_type": "code",
      "execution_count": null,
      "metadata": {
        "id": "IVrYluZCMcoG"
      },
      "outputs": [],
      "source": [
        "fig = plt.figure(figsize=(25,20))\n",
        "\n",
        "plt.title(\"Airline vs Route\",fontsize=25,y=1.)\n",
        "sns.scatterplot(x='Airline',y='Route',data=df)\n",
        "\n",
        "plt.xlabel(\"Airline\",fontsize=25,weight='bold')\n",
        "plt.ylabel(\"Route\",fontsize=25,weight='bold')"
      ]
    },
    {
      "cell_type": "markdown",
      "metadata": {
        "id": "jACjzBCEMcoG"
      },
      "source": [
        "**Observation**  \n",
        "* Air India flights pass through each of the given routes."
      ]
    },
    {
      "cell_type": "markdown",
      "source": [
        "### We will see a visual airlines count using a Pie Chart"
      ],
      "metadata": {
        "id": "aRM9f7tCO6lA"
      }
    },
    {
      "cell_type": "code",
      "source": [
        "df['Airline'].unique()"
      ],
      "metadata": {
        "id": "63WzEJohOFRX",
        "colab": {
          "base_uri": "https://localhost:8080/"
        },
        "outputId": "329d4944-f4ac-436b-c083-a04cc40c8845"
      },
      "execution_count": null,
      "outputs": [
        {
          "output_type": "execute_result",
          "data": {
            "text/plain": [
              "array(['IndiGo', 'Air India', 'Jet Airways', 'SpiceJet',\n",
              "       'Multiple carriers', 'GoAir', 'Vistara', 'Air Asia',\n",
              "       'Vistara Premium economy', 'Jet Airways Business',\n",
              "       'Multiple carriers Premium economy', 'Trujet'], dtype=object)"
            ]
          },
          "metadata": {},
          "execution_count": 3
        }
      ]
    },
    {
      "cell_type": "code",
      "execution_count": null,
      "metadata": {
        "id": "NKXdyiYaMcoH",
        "colab": {
          "base_uri": "https://localhost:8080/"
        },
        "outputId": "48ff91d3-f26d-440b-f147-4bfde86385ac"
      },
      "outputs": [
        {
          "output_type": "execute_result",
          "data": {
            "text/plain": [
              "array([3849, 2053, 1752, 1196,  818,  479,  319,  194,   13,    6,    3,\n",
              "          1])"
            ]
          },
          "metadata": {},
          "execution_count": 6
        }
      ],
      "source": [
        "values = df['Airline'].value_counts().values\n",
        "\n",
        "index = df['Airline'].value_counts().index\n"
      ]
    },
    {
      "cell_type": "code",
      "execution_count": null,
      "metadata": {
        "id": "9gMaAy_5McoH",
        "colab": {
          "base_uri": "https://localhost:8080/",
          "height": 828
        },
        "outputId": "dcb07bd0-fd0e-4850-cb68-2b7e3386c605"
      },
      "outputs": [
        {
          "output_type": "execute_result",
          "data": {
            "text/plain": [
              "([<matplotlib.patches.Wedge at 0x7fd54024ae90>,\n",
              "  <matplotlib.patches.Wedge at 0x7fd540255690>,\n",
              "  <matplotlib.patches.Wedge at 0x7fd540255f10>,\n",
              "  <matplotlib.patches.Wedge at 0x7fd540261850>,\n",
              "  <matplotlib.patches.Wedge at 0x7fd5402683d0>,\n",
              "  <matplotlib.patches.Wedge at 0x7fd540268d10>,\n",
              "  <matplotlib.patches.Wedge at 0x7fd540271310>,\n",
              "  <matplotlib.patches.Wedge at 0x7fd540271b90>],\n",
              " [Text(-0.3760867399283128, 1.0337111608423766, 'Jet Airways'),\n",
              "  Text(-0.9559601311497364, -0.5441876768654162, 'IndiGo'),\n",
              "  Text(0.07482753733604135, -1.0974519760136312, 'Air India'),\n",
              "  Text(0.8862842982588005, -0.6515367546500395, 'Multiple carriers'),\n",
              "  Text(1.0991035374302518, -0.0444006081974932, 'SpiceJet'),\n",
              "  Text(1.036345372944626, 0.3687658714906577, 'Vistara'),\n",
              "  Text(0.9218897589080942, 0.6000993854524233, 'Air Asia'),\n",
              "  Text(0.8209928993381852, 0.7321001702200871, 'GoAir')],\n",
              " [Text(-0.2051382217790797, 0.5638424513685689, '36.11%'),\n",
              "  Text(-0.5214327988089471, -0.29682964192659067, '19.26%'),\n",
              "  Text(0.040815020365113454, -0.5986101687347078, '16.44%'),\n",
              "  Text(0.4834277990502548, -0.3553836843545669, '11.22%'),\n",
              "  Text(0.599511020416501, -0.024218513562269017, '7.67%'),\n",
              "  Text(0.5652792943334323, 0.20114502081308602, '4.49%'),\n",
              "  Text(0.502848959404415, 0.3273269375195036, '2.99%'),\n",
              "  Text(0.4478143087299192, 0.399327365574593, '1.82%')])"
            ]
          },
          "metadata": {},
          "execution_count": 7
        },
        {
          "output_type": "display_data",
          "data": {
            "text/plain": [
              "<Figure size 720x504 with 1 Axes>"
            ],
            "image/png": "[encoded data removed]"
          },
          "metadata": {}
        }
      ],
      "source": [
        "fig = plt.figure(figsize=(10,7))\n",
        "\n",
        "plt.pie(values[:8],labels=index[:8],startangle=45,autopct='%.2f%%')\n"
      ]
    },
    {
      "cell_type": "markdown",
      "metadata": {
        "id": "k1g6DCwUMcoH"
      },
      "source": [
        "**Observation**\n",
        "* Total 36.78% Jet Airways flights are available.\n",
        "* In data 19.62% IndiGo and 16.74% Air India flights are Available."
      ]
    },
    {
      "cell_type": "markdown",
      "source": [
        "### Trying out another data set as the above dataset does not cover some stuff we would like to explore and I would keep some task for you guys to do"
      ],
      "metadata": {
        "id": "sXoTjrpEQOG_"
      }
    },
    {
      "cell_type": "code",
      "source": [
        "import pandas as pd\n",
        "df = pd.read_csv('forest_fires_dataset.csv',header=1)\n",
        "\n",
        "df.head()"
      ],
      "metadata": {
        "id": "j6Mb2-2XSPOt",
        "colab": {
          "base_uri": "https://localhost:8080/",
          "height": 206
        },
        "outputId": "3c11f260-7b72-4c98-fc83-5a87957b55de"
      },
      "execution_count": null,
      "outputs": [
        {
          "output_type": "execute_result",
          "data": {
            "text/plain": [
              "  day month  year Temperature  RH  Ws  Rain  FFMC  DMC    DC  ISI  BUI  FWI  \\\n",
              "0   1     6  2012          29  57  18     0  65.7  3.4   7.6  1.3  3.4  0.5   \n",
              "1   2     6  2012          29  61  13   1.3  64.4  4.1   7.6    1  3.9  0.4   \n",
              "2   3     6  2012          26  82  22  13.1  47.1  2.5   7.1  0.3  2.7  0.1   \n",
              "3   4     6  2012          25  89  13   2.5  28.6  1.3   6.9    0  1.7    0   \n",
              "4   5     6  2012          27  77  16     0  64.8    3  14.2  1.2  3.9  0.5   \n",
              "\n",
              "    Classes  \n",
              "0  not fire  \n",
              "1  not fire  \n",
              "2  not fire  \n",
              "3  not fire  \n",
              "4  not fire  "
            ],
            "text/html": [
              "\n",
              "  <div id=\"df-1de7249a-71a7-496f-be10-24ef2938bba6\">\n",
              "    <div class=\"colab-df-container\">\n",
              "      <div>\n",
              "<style scoped>\n",
              "    .dataframe tbody tr th:only-of-type {\n",
              "        vertical-align: middle;\n",
              "    }\n",
              "\n",
              "    .dataframe tbody tr th {\n",
              "        vertical-align: top;\n",
              "    }\n",
              "\n",
              "    .dataframe thead th {\n",
              "        text-align: right;\n",
              "    }\n",
              "</style>\n",
              "<table border=\"1\" class=\"dataframe\">\n",
              "  <thead>\n",
              "    <tr style=\"text-align: right;\">\n",
              "      <th></th>\n",
              "      <th>day</th>\n",
              "      <th>month</th>\n",
              "      <th>year</th>\n",
              "      <th>Temperature</th>\n",
              "      <th>RH</th>\n",
              "      <th>Ws</th>\n",
              "      <th>Rain</th>\n",
              "      <th>FFMC</th>\n",
              "      <th>DMC</th>\n",
              "      <th>DC</th>\n",
              "      <th>ISI</th>\n",
              "      <th>BUI</th>\n",
              "      <th>FWI</th>\n",
              "      <th>Classes</th>\n",
              "    </tr>\n",
              "  </thead>\n",
              "  <tbody>\n",
              "    <tr>\n",
              "      <th>0</th>\n",
              "      <td>1</td>\n",
              "      <td>6</td>\n",
              "      <td>2012</td>\n",
              "      <td>29</td>\n",
              "      <td>57</td>\n",
              "      <td>18</td>\n",
              "      <td>0</td>\n",
              "      <td>65.7</td>\n",
              "      <td>3.4</td>\n",
              "      <td>7.6</td>\n",
              "      <td>1.3</td>\n",
              "      <td>3.4</td>\n",
              "      <td>0.5</td>\n",
              "      <td>not fire</td>\n",
              "    </tr>\n",
              "    <tr>\n",
              "      <th>1</th>\n",
              "      <td>2</td>\n",
              "      <td>6</td>\n",
              "      <td>2012</td>\n",
              "      <td>29</td>\n",
              "      <td>61</td>\n",
              "      <td>13</td>\n",
              "      <td>1.3</td>\n",
              "      <td>64.4</td>\n",
              "      <td>4.1</td>\n",
              "      <td>7.6</td>\n",
              "      <td>1</td>\n",
              "      <td>3.9</td>\n",
              "      <td>0.4</td>\n",
              "      <td>not fire</td>\n",
              "    </tr>\n",
              "    <tr>\n",
              "      <th>2</th>\n",
              "      <td>3</td>\n",
              "      <td>6</td>\n",
              "      <td>2012</td>\n",
              "      <td>26</td>\n",
              "      <td>82</td>\n",
              "      <td>22</td>\n",
              "      <td>13.1</td>\n",
              "      <td>47.1</td>\n",
              "      <td>2.5</td>\n",
              "      <td>7.1</td>\n",
              "      <td>0.3</td>\n",
              "      <td>2.7</td>\n",
              "      <td>0.1</td>\n",
              "      <td>not fire</td>\n",
              "    </tr>\n",
              "    <tr>\n",
              "      <th>3</th>\n",
              "      <td>4</td>\n",
              "      <td>6</td>\n",
              "      <td>2012</td>\n",
              "      <td>25</td>\n",
              "      <td>89</td>\n",
              "      <td>13</td>\n",
              "      <td>2.5</td>\n",
              "      <td>28.6</td>\n",
              "      <td>1.3</td>\n",
              "      <td>6.9</td>\n",
              "      <td>0</td>\n",
              "      <td>1.7</td>\n",
              "      <td>0</td>\n",
              "      <td>not fire</td>\n",
              "    </tr>\n",
              "    <tr>\n",
              "      <th>4</th>\n",
              "      <td>5</td>\n",
              "      <td>6</td>\n",
              "      <td>2012</td>\n",
              "      <td>27</td>\n",
              "      <td>77</td>\n",
              "      <td>16</td>\n",
              "      <td>0</td>\n",
              "      <td>64.8</td>\n",
              "      <td>3</td>\n",
              "      <td>14.2</td>\n",
              "      <td>1.2</td>\n",
              "      <td>3.9</td>\n",
              "      <td>0.5</td>\n",
              "      <td>not fire</td>\n",
              "    </tr>\n",
              "  </tbody>\n",
              "</table>\n",
              "</div>\n",
              "      <button class=\"colab-df-convert\" onclick=\"convertToInteractive('df-1de7249a-71a7-496f-be10-24ef2938bba6')\"\n",
              "              title=\"Convert this dataframe to an interactive table.\"\n",
              "              style=\"display:none;\">\n",
              "        \n",
              "  <svg xmlns=\"http://www.w3.org/2000/svg\" height=\"24px\"viewBox=\"0 0 24 24\"\n",
              "       width=\"24px\">\n",
              "    <path d=\"M0 0h24v24H0V0z\" fill=\"none\"/>\n",
              "    <path d=\"M18.56 5.44l.94 2.06.94-2.06 2.06-.94-2.06-.94-.94-2.06-.94 2.06-2.06.94zm-11 1L8.5 8.5l.94-2.06 2.06-.94-2.06-.94L8.5 2.5l-.94 2.06-2.06.94zm10 10l.94 2.06.94-2.06 2.06-.94-2.06-.94-.94-2.06-.94 2.06-2.06.94z\"/><path d=\"M17.41 7.96l-1.37-1.37c-.4-.4-.92-.59-1.43-.59-.52 0-1.04.2-1.43.59L10.3 9.45l-7.72 7.72c-.78.78-.78 2.05 0 2.83L4 21.41c.39.39.9.59 1.41.59.51 0 1.02-.2 1.41-.59l7.78-7.78 2.81-2.81c.8-.78.8-2.07 0-2.86zM5.41 20L4 18.59l7.72-7.72 1.47 1.35L5.41 20z\"/>\n",
              "  </svg>\n",
              "      </button>\n",
              "      \n",
              "  <style>\n",
              "    .colab-df-container {\n",
              "      display:flex;\n",
              "      flex-wrap:wrap;\n",
              "      gap: 12px;\n",
              "    }\n",
              "\n",
              "    .colab-df-convert {\n",
              "      background-color: #E8F0FE;\n",
              "      border: none;\n",
              "      border-radius: 50%;\n",
              "      cursor: pointer;\n",
              "      display: none;\n",
              "      fill: #1967D2;\n",
              "      height: 32px;\n",
              "      padding: 0 0 0 0;\n",
              "      width: 32px;\n",
              "    }\n",
              "\n",
              "    .colab-df-convert:hover {\n",
              "      background-color: #E2EBFA;\n",
              "      box-shadow: 0px 1px 2px rgba(60, 64, 67, 0.3), 0px 1px 3px 1px rgba(60, 64, 67, 0.15);\n",
              "      fill: #174EA6;\n",
              "    }\n",
              "\n",
              "    [theme=dark] .colab-df-convert {\n",
              "      background-color: #3B4455;\n",
              "      fill: #D2E3FC;\n",
              "    }\n",
              "\n",
              "    [theme=dark] .colab-df-convert:hover {\n",
              "      background-color: #434B5C;\n",
              "      box-shadow: 0px 1px 3px 1px rgba(0, 0, 0, 0.15);\n",
              "      filter: drop-shadow(0px 1px 2px rgba(0, 0, 0, 0.3));\n",
              "      fill: #FFFFFF;\n",
              "    }\n",
              "  </style>\n",
              "\n",
              "      <script>\n",
              "        const buttonEl =\n",
              "          document.querySelector('#df-1de7249a-71a7-496f-be10-24ef2938bba6 button.colab-df-convert');\n",
              "        buttonEl.style.display =\n",
              "          google.colab.kernel.accessAllowed ? 'block' : 'none';\n",
              "\n",
              "        async function convertToInteractive(key) {\n",
              "          const element = document.querySelector('#df-1de7249a-71a7-496f-be10-24ef2938bba6');\n",
              "          const dataTable =\n",
              "            await google.colab.kernel.invokeFunction('convertToInteractive',\n",
              "                                                     [key], {});\n",
              "          if (!dataTable) return;\n",
              "\n",
              "          const docLinkHtml = 'Like what you see? Visit the ' +\n",
              "            '<a target=\"_blank\" href=https://colab.research.google.com/notebooks/data_table.ipynb>data table notebook</a>'\n",
              "            + ' to learn more about interactive tables.';\n",
              "          element.innerHTML = '';\n",
              "          dataTable['output_type'] = 'display_data';\n",
              "          await google.colab.output.renderOutput(dataTable, element);\n",
              "          const docLink = document.createElement('div');\n",
              "          docLink.innerHTML = docLinkHtml;\n",
              "          element.appendChild(docLink);\n",
              "        }\n",
              "      </script>\n",
              "    </div>\n",
              "  </div>\n",
              "  "
            ]
          },
          "metadata": {},
          "execution_count": 15
        }
      ]
    },
    {
      "cell_type": "code",
      "source": [
        "df.info()"
      ],
      "metadata": {
        "id": "sTRZcXE4XcCU",
        "colab": {
          "base_uri": "https://localhost:8080/"
        },
        "outputId": "1c787e12-1981-4cdf-e05d-cd0fb2eb5ed7"
      },
      "execution_count": null,
      "outputs": [
        {
          "output_type": "stream",
          "name": "stdout",
          "text": [
            "<class 'pandas.core.frame.DataFrame'>\n",
            "RangeIndex: 247 entries, 0 to 246\n",
            "Data columns (total 14 columns):\n",
            " #   Column       Non-Null Count  Dtype \n",
            "---  ------       --------------  ----- \n",
            " 0   day          246 non-null    object\n",
            " 1   month        245 non-null    object\n",
            " 2   year         245 non-null    object\n",
            " 3   Temperature  245 non-null    object\n",
            " 4   RH           245 non-null    object\n",
            " 5   Ws           245 non-null    object\n",
            " 6   Rain         245 non-null    object\n",
            " 7   FFMC         245 non-null    object\n",
            " 8   DMC          245 non-null    object\n",
            " 9   DC           245 non-null    object\n",
            " 10  ISI          245 non-null    object\n",
            " 11  BUI          245 non-null    object\n",
            " 12  FWI          245 non-null    object\n",
            " 13  Classes      245 non-null    object\n",
            "dtypes: object(14)\n",
            "memory usage: 27.1+ KB\n"
          ]
        }
      ]
    },
    {
      "cell_type": "code",
      "source": [
        "df1 = df[df.isna().any(axis=1)]\n",
        "df1.info()"
      ],
      "metadata": {
        "id": "7fYp8QUbXp5s",
        "colab": {
          "base_uri": "https://localhost:8080/"
        },
        "outputId": "93460b6a-a08b-4ae8-d007-5f35d25658f7"
      },
      "execution_count": null,
      "outputs": [
        {
          "output_type": "stream",
          "name": "stdout",
          "text": [
            "<class 'pandas.core.frame.DataFrame'>\n",
            "Int64Index: 2 entries, 122 to 123\n",
            "Data columns (total 14 columns):\n",
            " #   Column       Non-Null Count  Dtype \n",
            "---  ------       --------------  ----- \n",
            " 0   day          1 non-null      object\n",
            " 1   month        0 non-null      object\n",
            " 2   year         0 non-null      object\n",
            " 3   Temperature  0 non-null      object\n",
            " 4   RH           0 non-null      object\n",
            " 5   Ws           0 non-null      object\n",
            " 6   Rain         0 non-null      object\n",
            " 7   FFMC         0 non-null      object\n",
            " 8   DMC          0 non-null      object\n",
            " 9   DC           0 non-null      object\n",
            " 10  ISI          0 non-null      object\n",
            " 11  BUI          0 non-null      object\n",
            " 12  FWI          0 non-null      object\n",
            " 13  Classes      0 non-null      object\n",
            "dtypes: object(14)\n",
            "memory usage: 240.0+ bytes\n"
          ]
        }
      ]
    },
    {
      "cell_type": "code",
      "source": [
        "df.drop([122,123, 124],axis=0,inplace=True)\n",
        "df.reset_index(inplace=True)"
      ],
      "metadata": {
        "id": "W7uifwUGXXd9"
      },
      "execution_count": null,
      "outputs": []
    },
    {
      "cell_type": "code",
      "source": [
        "df.info()"
      ],
      "metadata": {
        "id": "ljtNIPtOYx9p",
        "colab": {
          "base_uri": "https://localhost:8080/"
        },
        "outputId": "3680997b-0b5f-450e-e5b9-d2b544049315"
      },
      "execution_count": null,
      "outputs": [
        {
          "output_type": "stream",
          "name": "stdout",
          "text": [
            "<class 'pandas.core.frame.DataFrame'>\n",
            "RangeIndex: 244 entries, 0 to 243\n",
            "Data columns (total 15 columns):\n",
            " #   Column       Non-Null Count  Dtype \n",
            "---  ------       --------------  ----- \n",
            " 0   index        244 non-null    int64 \n",
            " 1   day          244 non-null    object\n",
            " 2   month        244 non-null    object\n",
            " 3   year         244 non-null    object\n",
            " 4   Temperature  244 non-null    object\n",
            " 5   RH           244 non-null    object\n",
            " 6   Ws           244 non-null    object\n",
            " 7   Rain         244 non-null    object\n",
            " 8   FFMC         244 non-null    object\n",
            " 9   DMC          244 non-null    object\n",
            " 10  DC           244 non-null    object\n",
            " 11  ISI          244 non-null    object\n",
            " 12  BUI          244 non-null    object\n",
            " 13  FWI          244 non-null    object\n",
            " 14  Classes      244 non-null    object\n",
            "dtypes: int64(1), object(14)\n",
            "memory usage: 28.7+ KB\n"
          ]
        }
      ]
    },
    {
      "cell_type": "code",
      "source": [
        "df.drop(['index'],axis=1,inplace=True)"
      ],
      "metadata": {
        "id": "1jQYrZowY0AX"
      },
      "execution_count": null,
      "outputs": []
    },
    {
      "cell_type": "code",
      "source": [
        "df.columns"
      ],
      "metadata": {
        "id": "Bn0zFfLpZY7a",
        "colab": {
          "base_uri": "https://localhost:8080/"
        },
        "outputId": "105257fa-1777-4822-b272-2a70d5a3efc5"
      },
      "execution_count": null,
      "outputs": [
        {
          "output_type": "execute_result",
          "data": {
            "text/plain": [
              "Index(['day', 'month', 'year', 'Temperature', 'RH', 'Ws', 'Rain', 'FFMC',\n",
              "       'DMC', 'DC', 'ISI', 'BUI', 'FWI', 'Classes'],\n",
              "      dtype='object')"
            ]
          },
          "metadata": {},
          "execution_count": 20
        }
      ]
    },
    {
      "cell_type": "code",
      "source": [
        "df.head()"
      ],
      "metadata": {
        "id": "vjPFSoXibHOr",
        "colab": {
          "base_uri": "https://localhost:8080/",
          "height": 206
        },
        "outputId": "b757a7b3-86b7-42f0-bff4-1388e6094a5c"
      },
      "execution_count": null,
      "outputs": [
        {
          "output_type": "execute_result",
          "data": {
            "text/plain": [
              "  day month  year Temperature  RH  Ws  Rain  FFMC  DMC    DC  ISI  BUI  FWI  \\\n",
              "0   1     6  2012          29  57  18     0  65.7  3.4   7.6  1.3  3.4  0.5   \n",
              "1   2     6  2012          29  61  13   1.3  64.4  4.1   7.6    1  3.9  0.4   \n",
              "2   3     6  2012          26  82  22  13.1  47.1  2.5   7.1  0.3  2.7  0.1   \n",
              "3   4     6  2012          25  89  13   2.5  28.6  1.3   6.9    0  1.7    0   \n",
              "4   5     6  2012          27  77  16     0  64.8    3  14.2  1.2  3.9  0.5   \n",
              "\n",
              "    Classes  \n",
              "0  not fire  \n",
              "1  not fire  \n",
              "2  not fire  \n",
              "3  not fire  \n",
              "4  not fire  "
            ],
            "text/html": [
              "\n",
              "  <div id=\"df-1cc86a6d-bbdf-4bc6-a0cc-b802affdf9d2\">\n",
              "    <div class=\"colab-df-container\">\n",
              "      <div>\n",
              "<style scoped>\n",
              "    .dataframe tbody tr th:only-of-type {\n",
              "        vertical-align: middle;\n",
              "    }\n",
              "\n",
              "    .dataframe tbody tr th {\n",
              "        vertical-align: top;\n",
              "    }\n",
              "\n",
              "    .dataframe thead th {\n",
              "        text-align: right;\n",
              "    }\n",
              "</style>\n",
              "<table border=\"1\" class=\"dataframe\">\n",
              "  <thead>\n",
              "    <tr style=\"text-align: right;\">\n",
              "      <th></th>\n",
              "      <th>day</th>\n",
              "      <th>month</th>\n",
              "      <th>year</th>\n",
              "      <th>Temperature</th>\n",
              "      <th>RH</th>\n",
              "      <th>Ws</th>\n",
              "      <th>Rain</th>\n",
              "      <th>FFMC</th>\n",
              "      <th>DMC</th>\n",
              "      <th>DC</th>\n",
              "      <th>ISI</th>\n",
              "      <th>BUI</th>\n",
              "      <th>FWI</th>\n",
              "      <th>Classes</th>\n",
              "    </tr>\n",
              "  </thead>\n",
              "  <tbody>\n",
              "    <tr>\n",
              "      <th>0</th>\n",
              "      <td>1</td>\n",
              "      <td>6</td>\n",
              "      <td>2012</td>\n",
              "      <td>29</td>\n",
              "      <td>57</td>\n",
              "      <td>18</td>\n",
              "      <td>0</td>\n",
              "      <td>65.7</td>\n",
              "      <td>3.4</td>\n",
              "      <td>7.6</td>\n",
              "      <td>1.3</td>\n",
              "      <td>3.4</td>\n",
              "      <td>0.5</td>\n",
              "      <td>not fire</td>\n",
              "    </tr>\n",
              "    <tr>\n",
              "      <th>1</th>\n",
              "      <td>2</td>\n",
              "      <td>6</td>\n",
              "      <td>2012</td>\n",
              "      <td>29</td>\n",
              "      <td>61</td>\n",
              "      <td>13</td>\n",
              "      <td>1.3</td>\n",
              "      <td>64.4</td>\n",
              "      <td>4.1</td>\n",
              "      <td>7.6</td>\n",
              "      <td>1</td>\n",
              "      <td>3.9</td>\n",
              "      <td>0.4</td>\n",
              "      <td>not fire</td>\n",
              "    </tr>\n",
              "    <tr>\n",
              "      <th>2</th>\n",
              "      <td>3</td>\n",
              "      <td>6</td>\n",
              "      <td>2012</td>\n",
              "      <td>26</td>\n",
              "      <td>82</td>\n",
              "      <td>22</td>\n",
              "      <td>13.1</td>\n",
              "      <td>47.1</td>\n",
              "      <td>2.5</td>\n",
              "      <td>7.1</td>\n",
              "      <td>0.3</td>\n",
              "      <td>2.7</td>\n",
              "      <td>0.1</td>\n",
              "      <td>not fire</td>\n",
              "    </tr>\n",
              "    <tr>\n",
              "      <th>3</th>\n",
              "      <td>4</td>\n",
              "      <td>6</td>\n",
              "      <td>2012</td>\n",
              "      <td>25</td>\n",
              "      <td>89</td>\n",
              "      <td>13</td>\n",
              "      <td>2.5</td>\n",
              "      <td>28.6</td>\n",
              "      <td>1.3</td>\n",
              "      <td>6.9</td>\n",
              "      <td>0</td>\n",
              "      <td>1.7</td>\n",
              "      <td>0</td>\n",
              "      <td>not fire</td>\n",
              "    </tr>\n",
              "    <tr>\n",
              "      <th>4</th>\n",
              "      <td>5</td>\n",
              "      <td>6</td>\n",
              "      <td>2012</td>\n",
              "      <td>27</td>\n",
              "      <td>77</td>\n",
              "      <td>16</td>\n",
              "      <td>0</td>\n",
              "      <td>64.8</td>\n",
              "      <td>3</td>\n",
              "      <td>14.2</td>\n",
              "      <td>1.2</td>\n",
              "      <td>3.9</td>\n",
              "      <td>0.5</td>\n",
              "      <td>not fire</td>\n",
              "    </tr>\n",
              "  </tbody>\n",
              "</table>\n",
              "</div>\n",
              "      <button class=\"colab-df-convert\" onclick=\"convertToInteractive('df-1cc86a6d-bbdf-4bc6-a0cc-b802affdf9d2')\"\n",
              "              title=\"Convert this dataframe to an interactive table.\"\n",
              "              style=\"display:none;\">\n",
              "        \n",
              "  <svg xmlns=\"http://www.w3.org/2000/svg\" height=\"24px\"viewBox=\"0 0 24 24\"\n",
              "       width=\"24px\">\n",
              "    <path d=\"M0 0h24v24H0V0z\" fill=\"none\"/>\n",
              "    <path d=\"M18.56 5.44l.94 2.06.94-2.06 2.06-.94-2.06-.94-.94-2.06-.94 2.06-2.06.94zm-11 1L8.5 8.5l.94-2.06 2.06-.94-2.06-.94L8.5 2.5l-.94 2.06-2.06.94zm10 10l.94 2.06.94-2.06 2.06-.94-2.06-.94-.94-2.06-.94 2.06-2.06.94z\"/><path d=\"M17.41 7.96l-1.37-1.37c-.4-.4-.92-.59-1.43-.59-.52 0-1.04.2-1.43.59L10.3 9.45l-7.72 7.72c-.78.78-.78 2.05 0 2.83L4 21.41c.39.39.9.59 1.41.59.51 0 1.02-.2 1.41-.59l7.78-7.78 2.81-2.81c.8-.78.8-2.07 0-2.86zM5.41 20L4 18.59l7.72-7.72 1.47 1.35L5.41 20z\"/>\n",
              "  </svg>\n",
              "      </button>\n",
              "      \n",
              "  <style>\n",
              "    .colab-df-container {\n",
              "      display:flex;\n",
              "      flex-wrap:wrap;\n",
              "      gap: 12px;\n",
              "    }\n",
              "\n",
              "    .colab-df-convert {\n",
              "      background-color: #E8F0FE;\n",
              "      border: none;\n",
              "      border-radius: 50%;\n",
              "      cursor: pointer;\n",
              "      display: none;\n",
              "      fill: #1967D2;\n",
              "      height: 32px;\n",
              "      padding: 0 0 0 0;\n",
              "      width: 32px;\n",
              "    }\n",
              "\n",
              "    .colab-df-convert:hover {\n",
              "      background-color: #E2EBFA;\n",
              "      box-shadow: 0px 1px 2px rgba(60, 64, 67, 0.3), 0px 1px 3px 1px rgba(60, 64, 67, 0.15);\n",
              "      fill: #174EA6;\n",
              "    }\n",
              "\n",
              "    [theme=dark] .colab-df-convert {\n",
              "      background-color: #3B4455;\n",
              "      fill: #D2E3FC;\n",
              "    }\n",
              "\n",
              "    [theme=dark] .colab-df-convert:hover {\n",
              "      background-color: #434B5C;\n",
              "      box-shadow: 0px 1px 3px 1px rgba(0, 0, 0, 0.15);\n",
              "      filter: drop-shadow(0px 1px 2px rgba(0, 0, 0, 0.3));\n",
              "      fill: #FFFFFF;\n",
              "    }\n",
              "  </style>\n",
              "\n",
              "      <script>\n",
              "        const buttonEl =\n",
              "          document.querySelector('#df-1cc86a6d-bbdf-4bc6-a0cc-b802affdf9d2 button.colab-df-convert');\n",
              "        buttonEl.style.display =\n",
              "          google.colab.kernel.accessAllowed ? 'block' : 'none';\n",
              "\n",
              "        async function convertToInteractive(key) {\n",
              "          const element = document.querySelector('#df-1cc86a6d-bbdf-4bc6-a0cc-b802affdf9d2');\n",
              "          const dataTable =\n",
              "            await google.colab.kernel.invokeFunction('convertToInteractive',\n",
              "                                                     [key], {});\n",
              "          if (!dataTable) return;\n",
              "\n",
              "          const docLinkHtml = 'Like what you see? Visit the ' +\n",
              "            '<a target=\"_blank\" href=https://colab.research.google.com/notebooks/data_table.ipynb>data table notebook</a>'\n",
              "            + ' to learn more about interactive tables.';\n",
              "          element.innerHTML = '';\n",
              "          dataTable['output_type'] = 'display_data';\n",
              "          await google.colab.output.renderOutput(dataTable, element);\n",
              "          const docLink = document.createElement('div');\n",
              "          docLink.innerHTML = docLinkHtml;\n",
              "          element.appendChild(docLink);\n",
              "        }\n",
              "      </script>\n",
              "    </div>\n",
              "  </div>\n",
              "  "
            ]
          },
          "metadata": {},
          "execution_count": 21
        }
      ]
    },
    {
      "cell_type": "markdown",
      "source": [
        "### We notice that the a lot of columns which is supposed to be numerical is represented as Object"
      ],
      "metadata": {
        "id": "iAAFeKfsZlVw"
      }
    },
    {
      "cell_type": "code",
      "source": [
        "df.tail()"
      ],
      "metadata": {
        "id": "VLve4zUPfMQz",
        "colab": {
          "base_uri": "https://localhost:8080/",
          "height": 206
        },
        "outputId": "ffc22fac-a9ec-457e-eac2-040c9264acac"
      },
      "execution_count": null,
      "outputs": [
        {
          "output_type": "execute_result",
          "data": {
            "text/plain": [
              "    day month  year Temperature  RH  Ws Rain  FFMC  DMC    DC  ISI   BUI  FWI  \\\n",
              "239  26     9  2012          30  65  14    0  85.4   16  44.5  4.5  16.9  6.5   \n",
              "240  27     9  2012          28  87  15  4.4  41.1  6.5     8  0.1   6.2    0   \n",
              "241  28     9  2012          27  87  29  0.5  45.9  3.5   7.9  0.4   3.4  0.2   \n",
              "242  29     9  2012          24  54  18  0.1  79.7  4.3  15.2  1.7   5.1  0.7   \n",
              "243  30     9  2012          24  64  15  0.2  67.3  3.8  16.5  1.2   4.8  0.5   \n",
              "\n",
              "      Classes  \n",
              "239      fire  \n",
              "240  not fire  \n",
              "241  not fire  \n",
              "242  not fire  \n",
              "243  not fire  "
            ],
            "text/html": [
              "\n",
              "  <div id=\"df-f24acdaa-8767-4a5c-9558-ac76f9bb75ca\">\n",
              "    <div class=\"colab-df-container\">\n",
              "      <div>\n",
              "<style scoped>\n",
              "    .dataframe tbody tr th:only-of-type {\n",
              "        vertical-align: middle;\n",
              "    }\n",
              "\n",
              "    .dataframe tbody tr th {\n",
              "        vertical-align: top;\n",
              "    }\n",
              "\n",
              "    .dataframe thead th {\n",
              "        text-align: right;\n",
              "    }\n",
              "</style>\n",
              "<table border=\"1\" class=\"dataframe\">\n",
              "  <thead>\n",
              "    <tr style=\"text-align: right;\">\n",
              "      <th></th>\n",
              "      <th>day</th>\n",
              "      <th>month</th>\n",
              "      <th>year</th>\n",
              "      <th>Temperature</th>\n",
              "      <th>RH</th>\n",
              "      <th>Ws</th>\n",
              "      <th>Rain</th>\n",
              "      <th>FFMC</th>\n",
              "      <th>DMC</th>\n",
              "      <th>DC</th>\n",
              "      <th>ISI</th>\n",
              "      <th>BUI</th>\n",
              "      <th>FWI</th>\n",
              "      <th>Classes</th>\n",
              "    </tr>\n",
              "  </thead>\n",
              "  <tbody>\n",
              "    <tr>\n",
              "      <th>239</th>\n",
              "      <td>26</td>\n",
              "      <td>9</td>\n",
              "      <td>2012</td>\n",
              "      <td>30</td>\n",
              "      <td>65</td>\n",
              "      <td>14</td>\n",
              "      <td>0</td>\n",
              "      <td>85.4</td>\n",
              "      <td>16</td>\n",
              "      <td>44.5</td>\n",
              "      <td>4.5</td>\n",
              "      <td>16.9</td>\n",
              "      <td>6.5</td>\n",
              "      <td>fire</td>\n",
              "    </tr>\n",
              "    <tr>\n",
              "      <th>240</th>\n",
              "      <td>27</td>\n",
              "      <td>9</td>\n",
              "      <td>2012</td>\n",
              "      <td>28</td>\n",
              "      <td>87</td>\n",
              "      <td>15</td>\n",
              "      <td>4.4</td>\n",
              "      <td>41.1</td>\n",
              "      <td>6.5</td>\n",
              "      <td>8</td>\n",
              "      <td>0.1</td>\n",
              "      <td>6.2</td>\n",
              "      <td>0</td>\n",
              "      <td>not fire</td>\n",
              "    </tr>\n",
              "    <tr>\n",
              "      <th>241</th>\n",
              "      <td>28</td>\n",
              "      <td>9</td>\n",
              "      <td>2012</td>\n",
              "      <td>27</td>\n",
              "      <td>87</td>\n",
              "      <td>29</td>\n",
              "      <td>0.5</td>\n",
              "      <td>45.9</td>\n",
              "      <td>3.5</td>\n",
              "      <td>7.9</td>\n",
              "      <td>0.4</td>\n",
              "      <td>3.4</td>\n",
              "      <td>0.2</td>\n",
              "      <td>not fire</td>\n",
              "    </tr>\n",
              "    <tr>\n",
              "      <th>242</th>\n",
              "      <td>29</td>\n",
              "      <td>9</td>\n",
              "      <td>2012</td>\n",
              "      <td>24</td>\n",
              "      <td>54</td>\n",
              "      <td>18</td>\n",
              "      <td>0.1</td>\n",
              "      <td>79.7</td>\n",
              "      <td>4.3</td>\n",
              "      <td>15.2</td>\n",
              "      <td>1.7</td>\n",
              "      <td>5.1</td>\n",
              "      <td>0.7</td>\n",
              "      <td>not fire</td>\n",
              "    </tr>\n",
              "    <tr>\n",
              "      <th>243</th>\n",
              "      <td>30</td>\n",
              "      <td>9</td>\n",
              "      <td>2012</td>\n",
              "      <td>24</td>\n",
              "      <td>64</td>\n",
              "      <td>15</td>\n",
              "      <td>0.2</td>\n",
              "      <td>67.3</td>\n",
              "      <td>3.8</td>\n",
              "      <td>16.5</td>\n",
              "      <td>1.2</td>\n",
              "      <td>4.8</td>\n",
              "      <td>0.5</td>\n",
              "      <td>not fire</td>\n",
              "    </tr>\n",
              "  </tbody>\n",
              "</table>\n",
              "</div>\n",
              "      <button class=\"colab-df-convert\" onclick=\"convertToInteractive('df-f24acdaa-8767-4a5c-9558-ac76f9bb75ca')\"\n",
              "              title=\"Convert this dataframe to an interactive table.\"\n",
              "              style=\"display:none;\">\n",
              "        \n",
              "  <svg xmlns=\"http://www.w3.org/2000/svg\" height=\"24px\"viewBox=\"0 0 24 24\"\n",
              "       width=\"24px\">\n",
              "    <path d=\"M0 0h24v24H0V0z\" fill=\"none\"/>\n",
              "    <path d=\"M18.56 5.44l.94 2.06.94-2.06 2.06-.94-2.06-.94-.94-2.06-.94 2.06-2.06.94zm-11 1L8.5 8.5l.94-2.06 2.06-.94-2.06-.94L8.5 2.5l-.94 2.06-2.06.94zm10 10l.94 2.06.94-2.06 2.06-.94-2.06-.94-.94-2.06-.94 2.06-2.06.94z\"/><path d=\"M17.41 7.96l-1.37-1.37c-.4-.4-.92-.59-1.43-.59-.52 0-1.04.2-1.43.59L10.3 9.45l-7.72 7.72c-.78.78-.78 2.05 0 2.83L4 21.41c.39.39.9.59 1.41.59.51 0 1.02-.2 1.41-.59l7.78-7.78 2.81-2.81c.8-.78.8-2.07 0-2.86zM5.41 20L4 18.59l7.72-7.72 1.47 1.35L5.41 20z\"/>\n",
              "  </svg>\n",
              "      </button>\n",
              "      \n",
              "  <style>\n",
              "    .colab-df-container {\n",
              "      display:flex;\n",
              "      flex-wrap:wrap;\n",
              "      gap: 12px;\n",
              "    }\n",
              "\n",
              "    .colab-df-convert {\n",
              "      background-color: #E8F0FE;\n",
              "      border: none;\n",
              "      border-radius: 50%;\n",
              "      cursor: pointer;\n",
              "      display: none;\n",
              "      fill: #1967D2;\n",
              "      height: 32px;\n",
              "      padding: 0 0 0 0;\n",
              "      width: 32px;\n",
              "    }\n",
              "\n",
              "    .colab-df-convert:hover {\n",
              "      background-color: #E2EBFA;\n",
              "      box-shadow: 0px 1px 2px rgba(60, 64, 67, 0.3), 0px 1px 3px 1px rgba(60, 64, 67, 0.15);\n",
              "      fill: #174EA6;\n",
              "    }\n",
              "\n",
              "    [theme=dark] .colab-df-convert {\n",
              "      background-color: #3B4455;\n",
              "      fill: #D2E3FC;\n",
              "    }\n",
              "\n",
              "    [theme=dark] .colab-df-convert:hover {\n",
              "      background-color: #434B5C;\n",
              "      box-shadow: 0px 1px 3px 1px rgba(0, 0, 0, 0.15);\n",
              "      filter: drop-shadow(0px 1px 2px rgba(0, 0, 0, 0.3));\n",
              "      fill: #FFFFFF;\n",
              "    }\n",
              "  </style>\n",
              "\n",
              "      <script>\n",
              "        const buttonEl =\n",
              "          document.querySelector('#df-f24acdaa-8767-4a5c-9558-ac76f9bb75ca button.colab-df-convert');\n",
              "        buttonEl.style.display =\n",
              "          google.colab.kernel.accessAllowed ? 'block' : 'none';\n",
              "\n",
              "        async function convertToInteractive(key) {\n",
              "          const element = document.querySelector('#df-f24acdaa-8767-4a5c-9558-ac76f9bb75ca');\n",
              "          const dataTable =\n",
              "            await google.colab.kernel.invokeFunction('convertToInteractive',\n",
              "                                                     [key], {});\n",
              "          if (!dataTable) return;\n",
              "\n",
              "          const docLinkHtml = 'Like what you see? Visit the ' +\n",
              "            '<a target=\"_blank\" href=https://colab.research.google.com/notebooks/data_table.ipynb>data table notebook</a>'\n",
              "            + ' to learn more about interactive tables.';\n",
              "          element.innerHTML = '';\n",
              "          dataTable['output_type'] = 'display_data';\n",
              "          await google.colab.output.renderOutput(dataTable, element);\n",
              "          const docLink = document.createElement('div');\n",
              "          docLink.innerHTML = docLinkHtml;\n",
              "          element.appendChild(docLink);\n",
              "        }\n",
              "      </script>\n",
              "    </div>\n",
              "  </div>\n",
              "  "
            ]
          },
          "metadata": {},
          "execution_count": 22
        }
      ]
    },
    {
      "cell_type": "code",
      "source": [
        "import numpy as np\n",
        "list = ['day','month', 'Temperature','RH','Ws']\n",
        "\n",
        "for i in list:\n",
        "    df[i] = df[i].apply(np.int64)"
      ],
      "metadata": {
        "id": "A74tox_3ZZTk"
      },
      "execution_count": null,
      "outputs": []
    },
    {
      "cell_type": "code",
      "source": [
        "list1 = ['Rain','FFMC','DMC','DC','ISI','BUI','FWI']\n",
        "for j in list1:\n",
        "    df[j] = df[j].apply(np.float64)\n",
        "\n",
        "df.info()"
      ],
      "metadata": {
        "id": "suTSyvcNbbBk",
        "colab": {
          "base_uri": "https://localhost:8080/"
        },
        "outputId": "914e302b-f428-4fe8-8ddf-71032bd4248b"
      },
      "execution_count": null,
      "outputs": [
        {
          "output_type": "stream",
          "name": "stdout",
          "text": [
            "<class 'pandas.core.frame.DataFrame'>\n",
            "RangeIndex: 244 entries, 0 to 243\n",
            "Data columns (total 14 columns):\n",
            " #   Column       Non-Null Count  Dtype  \n",
            "---  ------       --------------  -----  \n",
            " 0   day          244 non-null    int64  \n",
            " 1   month        244 non-null    int64  \n",
            " 2   year         244 non-null    object \n",
            " 3   Temperature  244 non-null    int64  \n",
            " 4   RH           244 non-null    int64  \n",
            " 5   Ws           244 non-null    int64  \n",
            " 6   Rain         244 non-null    float64\n",
            " 7   FFMC         244 non-null    float64\n",
            " 8   DMC          244 non-null    float64\n",
            " 9   DC           244 non-null    float64\n",
            " 10  ISI          244 non-null    float64\n",
            " 11  BUI          244 non-null    float64\n",
            " 12  FWI          244 non-null    float64\n",
            " 13  Classes      244 non-null    object \n",
            "dtypes: float64(7), int64(5), object(2)\n",
            "memory usage: 26.8+ KB\n"
          ]
        }
      ]
    },
    {
      "cell_type": "markdown",
      "source": [
        "### Change datatype of columns which are supposed to be float values.\n"
      ],
      "metadata": {
        "id": "oXTv1DH-bZ9-"
      }
    },
    {
      "cell_type": "code",
      "source": [
        "df['Classes'] = df.Classes.replace(to_replace='not fire', value=0)\n",
        "df['Classes'] = df.Classes.replace(to_replace='fire', value=1)"
      ],
      "metadata": {
        "id": "ofw5fGC6ZZY8"
      },
      "execution_count": null,
      "outputs": []
    },
    {
      "cell_type": "code",
      "source": [
        "df.info()"
      ],
      "metadata": {
        "id": "UWwqdO4TYtOP",
        "colab": {
          "base_uri": "https://localhost:8080/"
        },
        "outputId": "f04b101e-ac2f-4079-b537-408f22b80634"
      },
      "execution_count": null,
      "outputs": [
        {
          "output_type": "stream",
          "name": "stdout",
          "text": [
            "<class 'pandas.core.frame.DataFrame'>\n",
            "RangeIndex: 244 entries, 0 to 243\n",
            "Data columns (total 14 columns):\n",
            " #   Column       Non-Null Count  Dtype  \n",
            "---  ------       --------------  -----  \n",
            " 0   day          244 non-null    int64  \n",
            " 1   month        244 non-null    int64  \n",
            " 2   year         244 non-null    object \n",
            " 3   Temperature  244 non-null    int64  \n",
            " 4   RH           244 non-null    int64  \n",
            " 5   Ws           244 non-null    int64  \n",
            " 6   Rain         244 non-null    float64\n",
            " 7   FFMC         244 non-null    float64\n",
            " 8   DMC          244 non-null    float64\n",
            " 9   DC           244 non-null    float64\n",
            " 10  ISI          244 non-null    float64\n",
            " 11  BUI          244 non-null    float64\n",
            " 12  FWI          244 non-null    float64\n",
            " 13  Classes      244 non-null    int64  \n",
            "dtypes: float64(7), int64(6), object(1)\n",
            "memory usage: 26.8+ KB\n"
          ]
        }
      ]
    },
    {
      "cell_type": "code",
      "source": [
        "df.isnull().sum()"
      ],
      "metadata": {
        "id": "ZNWVD4yYZohC",
        "colab": {
          "base_uri": "https://localhost:8080/"
        },
        "outputId": "aa75439b-fff4-46c8-e883-8b5583984a88"
      },
      "execution_count": null,
      "outputs": [
        {
          "output_type": "execute_result",
          "data": {
            "text/plain": [
              "day            0\n",
              "month          0\n",
              "year           0\n",
              "Temperature    0\n",
              "RH             0\n",
              "Ws             0\n",
              "Rain           0\n",
              "FFMC           0\n",
              "DMC            0\n",
              "DC             0\n",
              "ISI            0\n",
              "BUI            0\n",
              "FWI            0\n",
              "Classes        0\n",
              "dtype: int64"
            ]
          },
          "metadata": {},
          "execution_count": 28
        }
      ]
    },
    {
      "cell_type": "code",
      "source": [
        "df.skew()"
      ],
      "metadata": {
        "id": "3msuAxTdZzoG",
        "colab": {
          "base_uri": "https://localhost:8080/"
        },
        "outputId": "08c5586f-639a-4f81-a184-2d559597ebc1"
      },
      "execution_count": null,
      "outputs": [
        {
          "output_type": "execute_result",
          "data": {
            "text/plain": [
              "day            0.002806\n",
              "month          0.000000\n",
              "year           0.000000\n",
              "Temperature   -0.196309\n",
              "RH            -0.237964\n",
              "Ws             0.545881\n",
              "Rain           4.579071\n",
              "FFMC          -1.325633\n",
              "DMC            1.527652\n",
              "DC             1.479042\n",
              "ISI            1.126950\n",
              "BUI            1.458466\n",
              "FWI            1.143243\n",
              "Classes       -0.266220\n",
              "dtype: float64"
            ]
          },
          "metadata": {},
          "execution_count": 29
        }
      ]
    },
    {
      "cell_type": "code",
      "source": [
        "num_feat = [num for num in df.columns if df[num].dtypes !='O']\n",
        "print('We have {} numerical features are {}'.format(len(num_feat),num_feat))"
      ],
      "metadata": {
        "id": "cc6rmZaIbXl3",
        "colab": {
          "base_uri": "https://localhost:8080/"
        },
        "outputId": "8f797ece-395d-4970-e494-151e3630bcdc"
      },
      "execution_count": null,
      "outputs": [
        {
          "output_type": "stream",
          "name": "stdout",
          "text": [
            "We have 13 numerical features are ['day', 'month', 'Temperature', 'RH', 'Ws', 'Rain', 'FFMC', 'DMC', 'DC', 'ISI', 'BUI', 'FWI', 'Classes']\n"
          ]
        }
      ]
    },
    {
      "cell_type": "code",
      "source": [
        "for i in enumerate(num_feat):\n",
        "  print(i)\n"
      ],
      "metadata": {
        "id": "HvR2XO40cLp3",
        "colab": {
          "base_uri": "https://localhost:8080/"
        },
        "outputId": "5cd8d3d3-1e21-4d0c-d080-b17d67ceada5"
      },
      "execution_count": null,
      "outputs": [
        {
          "output_type": "stream",
          "name": "stdout",
          "text": [
            "(0, 'day')\n",
            "(1, 'month')\n",
            "(2, 'Temperature')\n",
            "(3, 'RH')\n",
            "(4, 'Ws')\n",
            "(5, 'Rain')\n",
            "(6, 'FFMC')\n",
            "(7, 'DMC')\n",
            "(8, 'DC')\n",
            "(9, 'ISI')\n",
            "(10, 'BUI')\n",
            "(11, 'FWI')\n",
            "(12, 'Classes')\n"
          ]
        }
      ]
    },
    {
      "cell_type": "markdown",
      "source": [
        "### Univariate Analysis"
      ],
      "metadata": {
        "id": "TOdSy-KreeXc"
      }
    },
    {
      "cell_type": "code",
      "source": [
        "fig = plt.figure(figsize = (20,15))\n",
        "\n",
        "plt.suptitle('Univariate Analysis of Numerical Features',fontsize=20,fontweight='bold',y=1.)\n",
        "\n",
        "for i in enumerate(num_feat):\n",
        "\n",
        "    plt.subplot(5,3,i[0]+1)\n",
        "    sns.kdeplot(x=df[num_feat[i[0]]],shade='True',color='b')\n",
        "\n",
        "    plt.xlabel(num_feat[i[0]])\n",
        "    plt.tight_layout()"
      ],
      "metadata": {
        "id": "VE4H4SsfcKAZ",
        "colab": {
          "base_uri": "https://localhost:8080/",
          "height": 906
        },
        "outputId": "916360e3-6cee-4ab2-8d9e-05c5ca93b261"
      },
      "execution_count": null,
      "outputs": [
        {
          "output_type": "display_data",
          "data": {
            "text/plain": [
              "<Figure size 1440x1080 with 13 Axes>"
            ],
            "image/png": "[encoded data removed]"
          },
          "metadata": {
            "needs_background": "light"
          }
        }
      ]
    },
    {
      "cell_type": "markdown",
      "source": [
        "## Multivariate Analysis"
      ],
      "metadata": {
        "id": "o4odsuIdekQT"
      }
    },
    {
      "cell_type": "code",
      "source": [
        "df.corr()"
      ],
      "metadata": {
        "id": "ENxd11Mpeq46",
        "colab": {
          "base_uri": "https://localhost:8080/",
          "height": 570
        },
        "outputId": "caa79f46-8531-4bf8-9c63-eefd9f078554"
      },
      "execution_count": null,
      "outputs": [
        {
          "output_type": "execute_result",
          "data": {
            "text/plain": [
              "                      day         month  Temperature        RH        Ws  \\\n",
              "day          1.000000e+00  2.232788e-17     0.095772 -0.074209  0.047001   \n",
              "month        2.232788e-17  1.000000e+00    -0.059017 -0.037884 -0.041447   \n",
              "Temperature  9.577222e-02 -5.901677e-02     1.000000 -0.654443 -0.278132   \n",
              "RH          -7.420934e-02 -3.788419e-02    -0.654443  1.000000  0.236084   \n",
              "Ws           4.700086e-02 -4.144673e-02    -0.278132  0.236084  1.000000   \n",
              "Rain        -1.122654e-01  3.532207e-02    -0.326786  0.222968  0.170169   \n",
              "FFMC         2.240321e-01  1.557668e-02     0.677491 -0.645658 -0.163255   \n",
              "DMC          4.915710e-01  6.817778e-02     0.483105 -0.405133 -0.001246   \n",
              "DC           5.279285e-01  1.276719e-01     0.370498 -0.220330  0.076245   \n",
              "ISI          1.793008e-01  6.354476e-02     0.605971 -0.688268  0.012245   \n",
              "BUI          5.172239e-01  8.556743e-02     0.456415 -0.349685  0.030303   \n",
              "FWI          3.502343e-01  8.173226e-02     0.566839 -0.580457  0.033957   \n",
              "Classes      2.017844e-01  2.233266e-02     0.518119 -0.435023 -0.066529   \n",
              "\n",
              "                 Rain      FFMC       DMC        DC       ISI       BUI  \\\n",
              "day         -0.112265  0.224032  0.491571  0.527929  0.179301  0.517224   \n",
              "month        0.035322  0.015577  0.068178  0.127672  0.063545  0.085567   \n",
              "Temperature -0.326786  0.677491  0.483105  0.370498  0.605971  0.456415   \n",
              "RH           0.222968 -0.645658 -0.405133 -0.220330 -0.688268 -0.349685   \n",
              "Ws           0.170169 -0.163255 -0.001246  0.076245  0.012245  0.030303   \n",
              "Rain         1.000000 -0.544045 -0.288548 -0.296804 -0.347862 -0.299409   \n",
              "FFMC        -0.544045  1.000000  0.602391  0.503910  0.740751  0.590251   \n",
              "DMC         -0.288548  0.602391  1.000000  0.875358  0.678355  0.982206   \n",
              "DC          -0.296804  0.503910  0.875358  1.000000  0.503919  0.941672   \n",
              "ISI         -0.347862  0.740751  0.678355  0.503919  1.000000  0.641351   \n",
              "BUI         -0.299409  0.590251  0.982206  0.941672  0.641351  1.000000   \n",
              "FWI         -0.324755  0.691430  0.875191  0.737041  0.922422  0.856912   \n",
              "Classes     -0.379449  0.770114  0.584188  0.507122  0.736142  0.584545   \n",
              "\n",
              "                  FWI   Classes  \n",
              "day          0.350234  0.201784  \n",
              "month        0.081732  0.022333  \n",
              "Temperature  0.566839  0.518119  \n",
              "RH          -0.580457 -0.435023  \n",
              "Ws           0.033957 -0.066529  \n",
              "Rain        -0.324755 -0.379449  \n",
              "FFMC         0.691430  0.770114  \n",
              "DMC          0.875191  0.584188  \n",
              "DC           0.737041  0.507122  \n",
              "ISI          0.922422  0.736142  \n",
              "BUI          0.856912  0.584545  \n",
              "FWI          1.000000  0.719407  \n",
              "Classes      0.719407  1.000000  "
            ],
            "text/html": [
              "\n",
              "  <div id=\"df-52385295-cfe4-4fcc-b839-3db28c8a90ef\">\n",
              "    <div class=\"colab-df-container\">\n",
              "      <div>\n",
              "<style scoped>\n",
              "    .dataframe tbody tr th:only-of-type {\n",
              "        vertical-align: middle;\n",
              "    }\n",
              "\n",
              "    .dataframe tbody tr th {\n",
              "        vertical-align: top;\n",
              "    }\n",
              "\n",
              "    .dataframe thead th {\n",
              "        text-align: right;\n",
              "    }\n",
              "</style>\n",
              "<table border=\"1\" class=\"dataframe\">\n",
              "  <thead>\n",
              "    <tr style=\"text-align: right;\">\n",
              "      <th></th>\n",
              "      <th>day</th>\n",
              "      <th>month</th>\n",
              "      <th>Temperature</th>\n",
              "      <th>RH</th>\n",
              "      <th>Ws</th>\n",
              "      <th>Rain</th>\n",
              "      <th>FFMC</th>\n",
              "      <th>DMC</th>\n",
              "      <th>DC</th>\n",
              "      <th>ISI</th>\n",
              "      <th>BUI</th>\n",
              "      <th>FWI</th>\n",
              "      <th>Classes</th>\n",
              "    </tr>\n",
              "  </thead>\n",
              "  <tbody>\n",
              "    <tr>\n",
              "      <th>day</th>\n",
              "      <td>1.000000e+00</td>\n",
              "      <td>2.232788e-17</td>\n",
              "      <td>0.095772</td>\n",
              "      <td>-0.074209</td>\n",
              "      <td>0.047001</td>\n",
              "      <td>-0.112265</td>\n",
              "      <td>0.224032</td>\n",
              "      <td>0.491571</td>\n",
              "      <td>0.527929</td>\n",
              "      <td>0.179301</td>\n",
              "      <td>0.517224</td>\n",
              "      <td>0.350234</td>\n",
              "      <td>0.201784</td>\n",
              "    </tr>\n",
              "    <tr>\n",
              "      <th>month</th>\n",
              "      <td>2.232788e-17</td>\n",
              "      <td>1.000000e+00</td>\n",
              "      <td>-0.059017</td>\n",
              "      <td>-0.037884</td>\n",
              "      <td>-0.041447</td>\n",
              "      <td>0.035322</td>\n",
              "      <td>0.015577</td>\n",
              "      <td>0.068178</td>\n",
              "      <td>0.127672</td>\n",
              "      <td>0.063545</td>\n",
              "      <td>0.085567</td>\n",
              "      <td>0.081732</td>\n",
              "      <td>0.022333</td>\n",
              "    </tr>\n",
              "    <tr>\n",
              "      <th>Temperature</th>\n",
              "      <td>9.577222e-02</td>\n",
              "      <td>-5.901677e-02</td>\n",
              "      <td>1.000000</td>\n",
              "      <td>-0.654443</td>\n",
              "      <td>-0.278132</td>\n",
              "      <td>-0.326786</td>\n",
              "      <td>0.677491</td>\n",
              "      <td>0.483105</td>\n",
              "      <td>0.370498</td>\n",
              "      <td>0.605971</td>\n",
              "      <td>0.456415</td>\n",
              "      <td>0.566839</td>\n",
              "      <td>0.518119</td>\n",
              "    </tr>\n",
              "    <tr>\n",
              "      <th>RH</th>\n",
              "      <td>-7.420934e-02</td>\n",
              "      <td>-3.788419e-02</td>\n",
              "      <td>-0.654443</td>\n",
              "      <td>1.000000</td>\n",
              "      <td>0.236084</td>\n",
              "      <td>0.222968</td>\n",
              "      <td>-0.645658</td>\n",
              "      <td>-0.405133</td>\n",
              "      <td>-0.220330</td>\n",
              "      <td>-0.688268</td>\n",
              "      <td>-0.349685</td>\n",
              "      <td>-0.580457</td>\n",
              "      <td>-0.435023</td>\n",
              "    </tr>\n",
              "    <tr>\n",
              "      <th>Ws</th>\n",
              "      <td>4.700086e-02</td>\n",
              "      <td>-4.144673e-02</td>\n",
              "      <td>-0.278132</td>\n",
              "      <td>0.236084</td>\n",
              "      <td>1.000000</td>\n",
              "      <td>0.170169</td>\n",
              "      <td>-0.163255</td>\n",
              "      <td>-0.001246</td>\n",
              "      <td>0.076245</td>\n",
              "      <td>0.012245</td>\n",
              "      <td>0.030303</td>\n",
              "      <td>0.033957</td>\n",
              "      <td>-0.066529</td>\n",
              "    </tr>\n",
              "    <tr>\n",
              "      <th>Rain</th>\n",
              "      <td>-1.122654e-01</td>\n",
              "      <td>3.532207e-02</td>\n",
              "      <td>-0.326786</td>\n",
              "      <td>0.222968</td>\n",
              "      <td>0.170169</td>\n",
              "      <td>1.000000</td>\n",
              "      <td>-0.544045</td>\n",
              "      <td>-0.288548</td>\n",
              "      <td>-0.296804</td>\n",
              "      <td>-0.347862</td>\n",
              "      <td>-0.299409</td>\n",
              "      <td>-0.324755</td>\n",
              "      <td>-0.379449</td>\n",
              "    </tr>\n",
              "    <tr>\n",
              "      <th>FFMC</th>\n",
              "      <td>2.240321e-01</td>\n",
              "      <td>1.557668e-02</td>\n",
              "      <td>0.677491</td>\n",
              "      <td>-0.645658</td>\n",
              "      <td>-0.163255</td>\n",
              "      <td>-0.544045</td>\n",
              "      <td>1.000000</td>\n",
              "      <td>0.602391</td>\n",
              "      <td>0.503910</td>\n",
              "      <td>0.740751</td>\n",
              "      <td>0.590251</td>\n",
              "      <td>0.691430</td>\n",
              "      <td>0.770114</td>\n",
              "    </tr>\n",
              "    <tr>\n",
              "      <th>DMC</th>\n",
              "      <td>4.915710e-01</td>\n",
              "      <td>6.817778e-02</td>\n",
              "      <td>0.483105</td>\n",
              "      <td>-0.405133</td>\n",
              "      <td>-0.001246</td>\n",
              "      <td>-0.288548</td>\n",
              "      <td>0.602391</td>\n",
              "      <td>1.000000</td>\n",
              "      <td>0.875358</td>\n",
              "      <td>0.678355</td>\n",
              "      <td>0.982206</td>\n",
              "      <td>0.875191</td>\n",
              "      <td>0.584188</td>\n",
              "    </tr>\n",
              "    <tr>\n",
              "      <th>DC</th>\n",
              "      <td>5.279285e-01</td>\n",
              "      <td>1.276719e-01</td>\n",
              "      <td>0.370498</td>\n",
              "      <td>-0.220330</td>\n",
              "      <td>0.076245</td>\n",
              "      <td>-0.296804</td>\n",
              "      <td>0.503910</td>\n",
              "      <td>0.875358</td>\n",
              "      <td>1.000000</td>\n",
              "      <td>0.503919</td>\n",
              "      <td>0.941672</td>\n",
              "      <td>0.737041</td>\n",
              "      <td>0.507122</td>\n",
              "    </tr>\n",
              "    <tr>\n",
              "      <th>ISI</th>\n",
              "      <td>1.793008e-01</td>\n",
              "      <td>6.354476e-02</td>\n",
              "      <td>0.605971</td>\n",
              "      <td>-0.688268</td>\n",
              "      <td>0.012245</td>\n",
              "      <td>-0.347862</td>\n",
              "      <td>0.740751</td>\n",
              "      <td>0.678355</td>\n",
              "      <td>0.503919</td>\n",
              "      <td>1.000000</td>\n",
              "      <td>0.641351</td>\n",
              "      <td>0.922422</td>\n",
              "      <td>0.736142</td>\n",
              "    </tr>\n",
              "    <tr>\n",
              "      <th>BUI</th>\n",
              "      <td>5.172239e-01</td>\n",
              "      <td>8.556743e-02</td>\n",
              "      <td>0.456415</td>\n",
              "      <td>-0.349685</td>\n",
              "      <td>0.030303</td>\n",
              "      <td>-0.299409</td>\n",
              "      <td>0.590251</td>\n",
              "      <td>0.982206</td>\n",
              "      <td>0.941672</td>\n",
              "      <td>0.641351</td>\n",
              "      <td>1.000000</td>\n",
              "      <td>0.856912</td>\n",
              "      <td>0.584545</td>\n",
              "    </tr>\n",
              "    <tr>\n",
              "      <th>FWI</th>\n",
              "      <td>3.502343e-01</td>\n",
              "      <td>8.173226e-02</td>\n",
              "      <td>0.566839</td>\n",
              "      <td>-0.580457</td>\n",
              "      <td>0.033957</td>\n",
              "      <td>-0.324755</td>\n",
              "      <td>0.691430</td>\n",
              "      <td>0.875191</td>\n",
              "      <td>0.737041</td>\n",
              "      <td>0.922422</td>\n",
              "      <td>0.856912</td>\n",
              "      <td>1.000000</td>\n",
              "      <td>0.719407</td>\n",
              "    </tr>\n",
              "    <tr>\n",
              "      <th>Classes</th>\n",
              "      <td>2.017844e-01</td>\n",
              "      <td>2.233266e-02</td>\n",
              "      <td>0.518119</td>\n",
              "      <td>-0.435023</td>\n",
              "      <td>-0.066529</td>\n",
              "      <td>-0.379449</td>\n",
              "      <td>0.770114</td>\n",
              "      <td>0.584188</td>\n",
              "      <td>0.507122</td>\n",
              "      <td>0.736142</td>\n",
              "      <td>0.584545</td>\n",
              "      <td>0.719407</td>\n",
              "      <td>1.000000</td>\n",
              "    </tr>\n",
              "  </tbody>\n",
              "</table>\n",
              "</div>\n",
              "      <button class=\"colab-df-convert\" onclick=\"convertToInteractive('df-52385295-cfe4-4fcc-b839-3db28c8a90ef')\"\n",
              "              title=\"Convert this dataframe to an interactive table.\"\n",
              "              style=\"display:none;\">\n",
              "        \n",
              "  <svg xmlns=\"http://www.w3.org/2000/svg\" height=\"24px\"viewBox=\"0 0 24 24\"\n",
              "       width=\"24px\">\n",
              "    <path d=\"M0 0h24v24H0V0z\" fill=\"none\"/>\n",
              "    <path d=\"M18.56 5.44l.94 2.06.94-2.06 2.06-.94-2.06-.94-.94-2.06-.94 2.06-2.06.94zm-11 1L8.5 8.5l.94-2.06 2.06-.94-2.06-.94L8.5 2.5l-.94 2.06-2.06.94zm10 10l.94 2.06.94-2.06 2.06-.94-2.06-.94-.94-2.06-.94 2.06-2.06.94z\"/><path d=\"M17.41 7.96l-1.37-1.37c-.4-.4-.92-.59-1.43-.59-.52 0-1.04.2-1.43.59L10.3 9.45l-7.72 7.72c-.78.78-.78 2.05 0 2.83L4 21.41c.39.39.9.59 1.41.59.51 0 1.02-.2 1.41-.59l7.78-7.78 2.81-2.81c.8-.78.8-2.07 0-2.86zM5.41 20L4 18.59l7.72-7.72 1.47 1.35L5.41 20z\"/>\n",
              "  </svg>\n",
              "      </button>\n",
              "      \n",
              "  <style>\n",
              "    .colab-df-container {\n",
              "      display:flex;\n",
              "      flex-wrap:wrap;\n",
              "      gap: 12px;\n",
              "    }\n",
              "\n",
              "    .colab-df-convert {\n",
              "      background-color: #E8F0FE;\n",
              "      border: none;\n",
              "      border-radius: 50%;\n",
              "      cursor: pointer;\n",
              "      display: none;\n",
              "      fill: #1967D2;\n",
              "      height: 32px;\n",
              "      padding: 0 0 0 0;\n",
              "      width: 32px;\n",
              "    }\n",
              "\n",
              "    .colab-df-convert:hover {\n",
              "      background-color: #E2EBFA;\n",
              "      box-shadow: 0px 1px 2px rgba(60, 64, 67, 0.3), 0px 1px 3px 1px rgba(60, 64, 67, 0.15);\n",
              "      fill: #174EA6;\n",
              "    }\n",
              "\n",
              "    [theme=dark] .colab-df-convert {\n",
              "      background-color: #3B4455;\n",
              "      fill: #D2E3FC;\n",
              "    }\n",
              "\n",
              "    [theme=dark] .colab-df-convert:hover {\n",
              "      background-color: #434B5C;\n",
              "      box-shadow: 0px 1px 3px 1px rgba(0, 0, 0, 0.15);\n",
              "      filter: drop-shadow(0px 1px 2px rgba(0, 0, 0, 0.3));\n",
              "      fill: #FFFFFF;\n",
              "    }\n",
              "  </style>\n",
              "\n",
              "      <script>\n",
              "        const buttonEl =\n",
              "          document.querySelector('#df-52385295-cfe4-4fcc-b839-3db28c8a90ef button.colab-df-convert');\n",
              "        buttonEl.style.display =\n",
              "          google.colab.kernel.accessAllowed ? 'block' : 'none';\n",
              "\n",
              "        async function convertToInteractive(key) {\n",
              "          const element = document.querySelector('#df-52385295-cfe4-4fcc-b839-3db28c8a90ef');\n",
              "          const dataTable =\n",
              "            await google.colab.kernel.invokeFunction('convertToInteractive',\n",
              "                                                     [key], {});\n",
              "          if (!dataTable) return;\n",
              "\n",
              "          const docLinkHtml = 'Like what you see? Visit the ' +\n",
              "            '<a target=\"_blank\" href=https://colab.research.google.com/notebooks/data_table.ipynb>data table notebook</a>'\n",
              "            + ' to learn more about interactive tables.';\n",
              "          element.innerHTML = '';\n",
              "          dataTable['output_type'] = 'display_data';\n",
              "          await google.colab.output.renderOutput(dataTable, element);\n",
              "          const docLink = document.createElement('div');\n",
              "          docLink.innerHTML = docLinkHtml;\n",
              "          element.appendChild(docLink);\n",
              "        }\n",
              "      </script>\n",
              "    </div>\n",
              "  </div>\n",
              "  "
            ]
          },
          "metadata": {},
          "execution_count": 40
        }
      ]
    },
    {
      "cell_type": "code",
      "source": [
        "plt.figure(figsize = (15,10))\n",
        "sns.heatmap(df.corr(), cmap=\"CMRmap\", annot=True)\n",
        "plt.show()"
      ],
      "metadata": {
        "id": "vn_tGNkmer8v",
        "colab": {
          "base_uri": "https://localhost:8080/",
          "height": 595
        },
        "outputId": "aa035678-8609-4f73-f2dd-f3e354f65b77"
      },
      "execution_count": null,
      "outputs": [
        {
          "output_type": "display_data",
          "data": {
            "text/plain": [
              "<Figure size 1080x720 with 2 Axes>"
            ],
            "image/png": "[encoded data removed]"
          },
          "metadata": {
            "needs_background": "light"
          }
        }
      ]
    },
    {
      "cell_type": "markdown",
      "source": [
        "### Check the Outliers"
      ],
      "metadata": {
        "id": "08_X_FFeiAlq"
      }
    },
    {
      "cell_type": "code",
      "source": [
        "lst = ['Rain','FFMC','DMC','DC','ISI','BUI','FWI']\n",
        "plt.figure(figsize=(20,25))\n",
        "for i in enumerate(lst):\n",
        "    plt.subplot(5,3,i[0]+1)\n",
        "    sns.boxplot(data=df,x=lst[i[0]])"
      ],
      "metadata": {
        "id": "Fh8aGl28e3gF",
        "colab": {
          "base_uri": "https://localhost:8080/",
          "height": 859
        },
        "outputId": "58832e92-4aed-4e54-8b20-efcd764f94c6"
      },
      "execution_count": null,
      "outputs": [
        {
          "output_type": "display_data",
          "data": {
            "text/plain": [
              "<Figure size 1440x1800 with 7 Axes>"
            ],
            "image/png": "[encoded data removed]"
          },
          "metadata": {
            "needs_background": "light"
          }
        }
      ]
    },
    {
      "cell_type": "code",
      "source": [],
      "metadata": {
        "id": "2LBbs4cXiEVt"
      },
      "execution_count": null,
      "outputs": []
    }
  ],
  "metadata": {
    "kernelspec": {
      "display_name": "Python 3.10.0 64-bit",
      "language": "python",
      "name": "python3"
    },
    "language_info": {
      "codemirror_mode": {
        "name": "ipython",
        "version": 3
      },
      "file_extension": ".py",
      "mimetype": "text/x-python",
      "name": "python",
      "nbconvert_exporter": "python",
      "pygments_lexer": "ipython3",
      "version": "3.10.0 (tags/v3.10.0:b494f59, Oct  4 2021, 19:00:18) [MSC v.1929 64 bit (AMD64)]"
    },
    "orig_nbformat": 4,
    "vscode": {
      "interpreter": {
        "hash": "369f2c481f4da34e4445cda3fffd2e751bd1c4d706f27375911949ba6bb62e1c"
      }
    },
    "colab": {
      "provenance": [],
      "include_colab_link": true
    }
  },
  "nbformat": 4,
  "nbformat_minor": 0
}